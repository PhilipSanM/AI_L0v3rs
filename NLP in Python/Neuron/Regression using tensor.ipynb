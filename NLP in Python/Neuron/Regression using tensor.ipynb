{
 "cells": [
  {
   "cell_type": "code",
   "execution_count": 2,
   "id": "22f94091",
   "metadata": {},
   "outputs": [],
   "source": [
    "import numpy as np\n",
    "import tensorflow as tf\n",
    "import matplotlib.pyplot as plt\n",
    "\n",
    "from tensorflow.keras.layers import Dense, Input\n",
    "from tensorflow.keras.models import Model\n",
    "from tensorflow.keras.optimizers import Adam\n",
    "\n"
   ]
  },
  {
   "cell_type": "code",
   "execution_count": 3,
   "id": "1c86c059",
   "metadata": {},
   "outputs": [],
   "source": [
    "N = 100\n",
    "X = np.random.random(N) * 6 -3\n",
    "y = 0.5 * X -1 + np.random.randn(N) * 0.5"
   ]
  },
  {
   "cell_type": "code",
   "execution_count": 4,
   "id": "32f8a4a2",
   "metadata": {},
   "outputs": [
    {
     "data": {
      "text/plain": [
       "<matplotlib.collections.PathCollection at 0x281a4722f70>"
      ]
     },
     "execution_count": 4,
     "metadata": {},
     "output_type": "execute_result"
    },
    {
     "data": {
      "image/png": "[encoded data removed]",
      "text/plain": [
       "<Figure size 640x480 with 1 Axes>"
      ]
     },
     "metadata": {},
     "output_type": "display_data"
    }
   ],
   "source": [
    "plt.scatter(X,y)"
   ]
  },
  {
   "cell_type": "code",
   "execution_count": 8,
   "id": "ef368ae7",
   "metadata": {},
   "outputs": [],
   "source": [
    "# build model\n",
    "i = Input(shape = (1,))\n",
    "x = Dense(1)(i)"
   ]
  },
  {
   "cell_type": "code",
   "execution_count": 10,
   "id": "0294c62d",
   "metadata": {},
   "outputs": [],
   "source": [
    "model = Model(i, x) # mx input + b"
   ]
  },
  {
   "cell_type": "code",
   "execution_count": 13,
   "id": "64652411",
   "metadata": {},
   "outputs": [
    {
     "name": "stdout",
     "output_type": "stream",
     "text": [
      "Model: \"model_1\"\n",
      "_________________________________________________________________\n",
      " Layer (type)                Output Shape              Param #   \n",
      "=================================================================\n",
      " input_1 (InputLayer)        [(None, 1)]               0         \n",
      "                                                                 \n",
      " dense (Dense)               (None, 1)                 2         \n",
      "                                                                 \n",
      "=================================================================\n",
      "Total params: 2\n",
      "Trainable params: 2\n",
      "Non-trainable params: 0\n",
      "_________________________________________________________________\n"
     ]
    }
   ],
   "source": [
    "model.summary()"
   ]
  },
  {
   "cell_type": "code",
   "execution_count": 14,
   "id": "099d1c86",
   "metadata": {},
   "outputs": [],
   "source": [
    "model.compile(loss = 'mse', optimizer = Adam(learning_rate = 0.1),\n",
    "             metrics=  ['mae'])\n"
   ]
  },
  {
   "cell_type": "code",
   "execution_count": 15,
   "id": "40ad06b1",
   "metadata": {},
   "outputs": [
    {
     "name": "stdout",
     "output_type": "stream",
     "text": [
      "Epoch 1/200\n",
      "4/4 [==============================] - 1s 10ms/step - loss: 3.2230 - mae: 1.4229\n",
      "Epoch 2/200\n",
      "4/4 [==============================] - 0s 14ms/step - loss: 1.2685 - mae: 0.8932\n",
      "Epoch 3/200\n",
      "4/4 [==============================] - 0s 6ms/step - loss: 0.3784 - mae: 0.4951\n",
      "Epoch 4/200\n",
      "4/4 [==============================] - 0s 10ms/step - loss: 0.2503 - mae: 0.4104\n",
      "Epoch 5/200\n",
      "4/4 [==============================] - 0s 4ms/step - loss: 0.3695 - mae: 0.5016\n",
      "Epoch 6/200\n",
      "4/4 [==============================] - 0s 6ms/step - loss: 0.4309 - mae: 0.5364\n",
      "Epoch 7/200\n",
      "4/4 [==============================] - 0s 6ms/step - loss: 0.3883 - mae: 0.5094\n",
      "Epoch 8/200\n",
      "4/4 [==============================] - 0s 4ms/step - loss: 0.2929 - mae: 0.4417\n",
      "Epoch 9/200\n",
      "4/4 [==============================] - 0s 4ms/step - loss: 0.2382 - mae: 0.4009\n",
      "Epoch 10/200\n",
      "4/4 [==============================] - 0s 4ms/step - loss: 0.2295 - mae: 0.3747\n",
      "Epoch 11/200\n",
      "4/4 [==============================] - 0s 4ms/step - loss: 0.2350 - mae: 0.3769\n",
      "Epoch 12/200\n",
      "4/4 [==============================] - 0s 4ms/step - loss: 0.2303 - mae: 0.3706\n",
      "Epoch 13/200\n",
      "4/4 [==============================] - 0s 3ms/step - loss: 0.2191 - mae: 0.3639\n",
      "Epoch 14/200\n",
      "4/4 [==============================] - 0s 4ms/step - loss: 0.2154 - mae: 0.3666\n",
      "Epoch 15/200\n",
      "4/4 [==============================] - 0s 3ms/step - loss: 0.2199 - mae: 0.3774\n",
      "Epoch 16/200\n",
      "4/4 [==============================] - 0s 3ms/step - loss: 0.2235 - mae: 0.3834\n",
      "Epoch 17/200\n",
      "4/4 [==============================] - 0s 3ms/step - loss: 0.2226 - mae: 0.3814\n",
      "Epoch 18/200\n",
      "4/4 [==============================] - 0s 4ms/step - loss: 0.2187 - mae: 0.3763\n",
      "Epoch 19/200\n",
      "4/4 [==============================] - 0s 4ms/step - loss: 0.2177 - mae: 0.3720\n",
      "Epoch 20/200\n",
      "4/4 [==============================] - 0s 4ms/step - loss: 0.2197 - mae: 0.3698\n",
      "Epoch 21/200\n",
      "4/4 [==============================] - 0s 3ms/step - loss: 0.2203 - mae: 0.3652\n",
      "Epoch 22/200\n",
      "4/4 [==============================] - 0s 4ms/step - loss: 0.2195 - mae: 0.3643\n",
      "Epoch 23/200\n",
      "4/4 [==============================] - 0s 3ms/step - loss: 0.2169 - mae: 0.3640\n",
      "Epoch 24/200\n",
      "4/4 [==============================] - 0s 4ms/step - loss: 0.2154 - mae: 0.3662\n",
      "Epoch 25/200\n",
      "4/4 [==============================] - 0s 4ms/step - loss: 0.2174 - mae: 0.3701\n",
      "Epoch 26/200\n",
      "4/4 [==============================] - 0s 4ms/step - loss: 0.2208 - mae: 0.3748\n",
      "Epoch 27/200\n",
      "4/4 [==============================] - 0s 4ms/step - loss: 0.2268 - mae: 0.3779\n",
      "Epoch 28/200\n",
      "4/4 [==============================] - 0s 4ms/step - loss: 0.2226 - mae: 0.3716\n",
      "Epoch 29/200\n",
      "4/4 [==============================] - 0s 4ms/step - loss: 0.2180 - mae: 0.3653\n",
      "Epoch 30/200\n",
      "4/4 [==============================] - 0s 3ms/step - loss: 0.2176 - mae: 0.3636\n",
      "Epoch 31/200\n",
      "4/4 [==============================] - 0s 3ms/step - loss: 0.2203 - mae: 0.3661\n",
      "Epoch 32/200\n",
      "4/4 [==============================] - 0s 3ms/step - loss: 0.2167 - mae: 0.3635\n",
      "Epoch 33/200\n",
      "4/4 [==============================] - 0s 3ms/step - loss: 0.2170 - mae: 0.3655\n",
      "Epoch 34/200\n",
      "4/4 [==============================] - 0s 5ms/step - loss: 0.2298 - mae: 0.3821\n",
      "Epoch 35/200\n",
      "4/4 [==============================] - 0s 3ms/step - loss: 0.2343 - mae: 0.3918\n",
      "Epoch 36/200\n",
      "4/4 [==============================] - 0s 4ms/step - loss: 0.2280 - mae: 0.3858\n",
      "Epoch 37/200\n",
      "4/4 [==============================] - 0s 4ms/step - loss: 0.2208 - mae: 0.3746\n",
      "Epoch 38/200\n",
      "4/4 [==============================] - 0s 5ms/step - loss: 0.2296 - mae: 0.3827\n",
      "Epoch 39/200\n",
      "4/4 [==============================] - 0s 4ms/step - loss: 0.2293 - mae: 0.3747\n",
      "Epoch 40/200\n",
      "4/4 [==============================] - 0s 5ms/step - loss: 0.2204 - mae: 0.3667\n",
      "Epoch 41/200\n",
      "4/4 [==============================] - 0s 4ms/step - loss: 0.2195 - mae: 0.3647\n",
      "Epoch 42/200\n",
      "4/4 [==============================] - 0s 4ms/step - loss: 0.2201 - mae: 0.3652\n",
      "Epoch 43/200\n",
      "4/4 [==============================] - 0s 4ms/step - loss: 0.2195 - mae: 0.3651\n",
      "Epoch 44/200\n",
      "4/4 [==============================] - 0s 3ms/step - loss: 0.2171 - mae: 0.3650\n",
      "Epoch 45/200\n",
      "4/4 [==============================] - 0s 4ms/step - loss: 0.2166 - mae: 0.3648\n",
      "Epoch 46/200\n",
      "4/4 [==============================] - 0s 4ms/step - loss: 0.2175 - mae: 0.3670\n",
      "Epoch 47/200\n",
      "4/4 [==============================] - 0s 4ms/step - loss: 0.2161 - mae: 0.3696\n",
      "Epoch 48/200\n",
      "4/4 [==============================] - 0s 3ms/step - loss: 0.2180 - mae: 0.3713\n",
      "Epoch 49/200\n",
      "4/4 [==============================] - 0s 4ms/step - loss: 0.2272 - mae: 0.3767\n",
      "Epoch 50/200\n",
      "4/4 [==============================] - 0s 3ms/step - loss: 0.2234 - mae: 0.3726\n",
      "Epoch 51/200\n",
      "4/4 [==============================] - 0s 4ms/step - loss: 0.2163 - mae: 0.3666\n",
      "Epoch 52/200\n",
      "4/4 [==============================] - 0s 4ms/step - loss: 0.2197 - mae: 0.3714\n",
      "Epoch 53/200\n",
      "4/4 [==============================] - 0s 4ms/step - loss: 0.2177 - mae: 0.3761\n",
      "Epoch 54/200\n",
      "4/4 [==============================] - 0s 4ms/step - loss: 0.2353 - mae: 0.3880\n",
      "Epoch 55/200\n",
      "4/4 [==============================] - 0s 4ms/step - loss: 0.2347 - mae: 0.3890\n",
      "Epoch 56/200\n",
      "4/4 [==============================] - 0s 4ms/step - loss: 0.2191 - mae: 0.3707\n",
      "Epoch 57/200\n",
      "4/4 [==============================] - 0s 6ms/step - loss: 0.2208 - mae: 0.3729\n",
      "Epoch 58/200\n",
      "4/4 [==============================] - 0s 5ms/step - loss: 0.2286 - mae: 0.3772\n",
      "Epoch 59/200\n",
      "4/4 [==============================] - 0s 4ms/step - loss: 0.2216 - mae: 0.3690\n",
      "Epoch 60/200\n",
      "4/4 [==============================] - 0s 3ms/step - loss: 0.2192 - mae: 0.3716\n",
      "Epoch 61/200\n",
      "4/4 [==============================] - 0s 3ms/step - loss: 0.2186 - mae: 0.3752\n",
      "Epoch 62/200\n",
      "4/4 [==============================] - 0s 4ms/step - loss: 0.2160 - mae: 0.3697\n",
      "Epoch 63/200\n",
      "4/4 [==============================] - 0s 3ms/step - loss: 0.2146 - mae: 0.3640\n",
      "Epoch 64/200\n",
      "4/4 [==============================] - 0s 3ms/step - loss: 0.2274 - mae: 0.3700\n",
      "Epoch 65/200\n",
      "4/4 [==============================] - 0s 3ms/step - loss: 0.2245 - mae: 0.3671\n",
      "Epoch 66/200\n",
      "4/4 [==============================] - 0s 4ms/step - loss: 0.2144 - mae: 0.3611\n",
      "Epoch 67/200\n",
      "4/4 [==============================] - 0s 3ms/step - loss: 0.2237 - mae: 0.3818\n",
      "Epoch 68/200\n",
      "4/4 [==============================] - 0s 3ms/step - loss: 0.2283 - mae: 0.3890\n",
      "Epoch 69/200\n",
      "4/4 [==============================] - 0s 4ms/step - loss: 0.2234 - mae: 0.3805\n",
      "Epoch 70/200\n",
      "4/4 [==============================] - 0s 3ms/step - loss: 0.2184 - mae: 0.3686\n",
      "Epoch 71/200\n",
      "4/4 [==============================] - 0s 3ms/step - loss: 0.2213 - mae: 0.3684\n",
      "Epoch 72/200\n",
      "4/4 [==============================] - 0s 3ms/step - loss: 0.2249 - mae: 0.3717\n",
      "Epoch 73/200\n",
      "4/4 [==============================] - 0s 3ms/step - loss: 0.2285 - mae: 0.3764\n",
      "Epoch 74/200\n",
      "4/4 [==============================] - 0s 4ms/step - loss: 0.2169 - mae: 0.3658\n",
      "Epoch 75/200\n",
      "4/4 [==============================] - 0s 4ms/step - loss: 0.2199 - mae: 0.3787\n",
      "Epoch 76/200\n",
      "4/4 [==============================] - 0s 4ms/step - loss: 0.2187 - mae: 0.3782\n",
      "Epoch 77/200\n",
      "4/4 [==============================] - 0s 3ms/step - loss: 0.2368 - mae: 0.3931\n",
      "Epoch 78/200\n",
      "4/4 [==============================] - 0s 4ms/step - loss: 0.2698 - mae: 0.4121\n",
      "Epoch 79/200\n",
      "4/4 [==============================] - 0s 4ms/step - loss: 0.2310 - mae: 0.3837\n",
      "Epoch 80/200\n",
      "4/4 [==============================] - 0s 3ms/step - loss: 0.2247 - mae: 0.3773\n",
      "Epoch 81/200\n",
      "4/4 [==============================] - 0s 3ms/step - loss: 0.2401 - mae: 0.3924\n",
      "Epoch 82/200\n",
      "4/4 [==============================] - 0s 4ms/step - loss: 0.2216 - mae: 0.3684\n",
      "Epoch 83/200\n",
      "4/4 [==============================] - 0s 4ms/step - loss: 0.2253 - mae: 0.3673\n",
      "Epoch 84/200\n",
      "4/4 [==============================] - 0s 4ms/step - loss: 0.2338 - mae: 0.3744\n",
      "Epoch 85/200\n",
      "4/4 [==============================] - 0s 4ms/step - loss: 0.2198 - mae: 0.3660\n",
      "Epoch 86/200\n",
      "4/4 [==============================] - 0s 4ms/step - loss: 0.2156 - mae: 0.3672\n",
      "Epoch 87/200\n",
      "4/4 [==============================] - 0s 4ms/step - loss: 0.2171 - mae: 0.3665\n",
      "Epoch 88/200\n",
      "4/4 [==============================] - 0s 4ms/step - loss: 0.2183 - mae: 0.3649\n",
      "Epoch 89/200\n"
     ]
    },
    {
     "name": "stdout",
     "output_type": "stream",
     "text": [
      "4/4 [==============================] - 0s 4ms/step - loss: 0.2199 - mae: 0.3672\n",
      "Epoch 90/200\n",
      "4/4 [==============================] - 0s 3ms/step - loss: 0.2159 - mae: 0.3681\n",
      "Epoch 91/200\n",
      "4/4 [==============================] - 0s 3ms/step - loss: 0.2195 - mae: 0.3771\n",
      "Epoch 92/200\n",
      "4/4 [==============================] - 0s 3ms/step - loss: 0.2171 - mae: 0.3741\n",
      "Epoch 93/200\n",
      "4/4 [==============================] - 0s 3ms/step - loss: 0.2176 - mae: 0.3670\n",
      "Epoch 94/200\n",
      "4/4 [==============================] - 0s 3ms/step - loss: 0.2166 - mae: 0.3646\n",
      "Epoch 95/200\n",
      "4/4 [==============================] - 0s 4ms/step - loss: 0.2203 - mae: 0.3712\n",
      "Epoch 96/200\n",
      "4/4 [==============================] - 0s 4ms/step - loss: 0.2180 - mae: 0.3673\n",
      "Epoch 97/200\n",
      "4/4 [==============================] - 0s 3ms/step - loss: 0.2200 - mae: 0.3677\n",
      "Epoch 98/200\n",
      "4/4 [==============================] - 0s 3ms/step - loss: 0.2163 - mae: 0.3656\n",
      "Epoch 99/200\n",
      "4/4 [==============================] - 0s 4ms/step - loss: 0.2176 - mae: 0.3700\n",
      "Epoch 100/200\n",
      "4/4 [==============================] - 0s 4ms/step - loss: 0.2183 - mae: 0.3720\n",
      "Epoch 101/200\n",
      "4/4 [==============================] - 0s 4ms/step - loss: 0.2239 - mae: 0.3804\n",
      "Epoch 102/200\n",
      "4/4 [==============================] - 0s 3ms/step - loss: 0.2257 - mae: 0.3825\n",
      "Epoch 103/200\n",
      "4/4 [==============================] - 0s 3ms/step - loss: 0.2158 - mae: 0.3662\n",
      "Epoch 104/200\n",
      "4/4 [==============================] - 0s 3ms/step - loss: 0.2169 - mae: 0.3631\n",
      "Epoch 105/200\n",
      "4/4 [==============================] - 0s 3ms/step - loss: 0.2199 - mae: 0.3652\n",
      "Epoch 106/200\n",
      "4/4 [==============================] - 0s 3ms/step - loss: 0.2179 - mae: 0.3652\n",
      "Epoch 107/200\n",
      "4/4 [==============================] - 0s 3ms/step - loss: 0.2174 - mae: 0.3713\n",
      "Epoch 108/200\n",
      "4/4 [==============================] - 0s 3ms/step - loss: 0.2229 - mae: 0.3824\n",
      "Epoch 109/200\n",
      "4/4 [==============================] - 0s 3ms/step - loss: 0.2198 - mae: 0.3800\n",
      "Epoch 110/200\n",
      "4/4 [==============================] - 0s 4ms/step - loss: 0.2213 - mae: 0.3732\n",
      "Epoch 111/200\n",
      "4/4 [==============================] - 0s 3ms/step - loss: 0.2161 - mae: 0.3704\n",
      "Epoch 112/200\n",
      "4/4 [==============================] - 0s 3ms/step - loss: 0.2242 - mae: 0.3825\n",
      "Epoch 113/200\n",
      "4/4 [==============================] - 0s 3ms/step - loss: 0.2222 - mae: 0.3800\n",
      "Epoch 114/200\n",
      "4/4 [==============================] - 0s 3ms/step - loss: 0.2338 - mae: 0.3911\n",
      "Epoch 115/200\n",
      "4/4 [==============================] - 0s 3ms/step - loss: 0.2283 - mae: 0.3859\n",
      "Epoch 116/200\n",
      "4/4 [==============================] - 0s 3ms/step - loss: 0.2272 - mae: 0.3892\n",
      "Epoch 117/200\n",
      "4/4 [==============================] - 0s 5ms/step - loss: 0.2367 - mae: 0.3880\n",
      "Epoch 118/200\n",
      "4/4 [==============================] - 0s 3ms/step - loss: 0.2386 - mae: 0.3851\n",
      "Epoch 119/200\n",
      "4/4 [==============================] - 0s 3ms/step - loss: 0.2325 - mae: 0.3752\n",
      "Epoch 120/200\n",
      "4/4 [==============================] - 0s 4ms/step - loss: 0.2170 - mae: 0.3622\n",
      "Epoch 121/200\n",
      "4/4 [==============================] - 0s 4ms/step - loss: 0.2214 - mae: 0.3726\n",
      "Epoch 122/200\n",
      "4/4 [==============================] - 0s 3ms/step - loss: 0.2282 - mae: 0.3851\n",
      "Epoch 123/200\n",
      "4/4 [==============================] - 0s 4ms/step - loss: 0.2247 - mae: 0.3819\n",
      "Epoch 124/200\n",
      "4/4 [==============================] - 0s 3ms/step - loss: 0.2204 - mae: 0.3709\n",
      "Epoch 125/200\n",
      "4/4 [==============================] - 0s 4ms/step - loss: 0.2192 - mae: 0.3635\n",
      "Epoch 126/200\n",
      "4/4 [==============================] - 0s 4ms/step - loss: 0.2322 - mae: 0.3787\n",
      "Epoch 127/200\n",
      "4/4 [==============================] - 0s 3ms/step - loss: 0.2407 - mae: 0.3874\n",
      "Epoch 128/200\n",
      "4/4 [==============================] - 0s 3ms/step - loss: 0.2238 - mae: 0.3701\n",
      "Epoch 129/200\n",
      "4/4 [==============================] - 0s 3ms/step - loss: 0.2302 - mae: 0.3713\n",
      "Epoch 130/200\n",
      "4/4 [==============================] - 0s 4ms/step - loss: 0.2293 - mae: 0.3828\n",
      "Epoch 131/200\n",
      "4/4 [==============================] - 0s 4ms/step - loss: 0.2151 - mae: 0.3711\n",
      "Epoch 132/200\n",
      "4/4 [==============================] - 0s 3ms/step - loss: 0.2169 - mae: 0.3657\n",
      "Epoch 133/200\n",
      "4/4 [==============================] - 0s 3ms/step - loss: 0.2235 - mae: 0.3717\n",
      "Epoch 134/200\n",
      "4/4 [==============================] - 0s 3ms/step - loss: 0.2240 - mae: 0.3729\n",
      "Epoch 135/200\n",
      "4/4 [==============================] - 0s 4ms/step - loss: 0.2152 - mae: 0.3621\n",
      "Epoch 136/200\n",
      "4/4 [==============================] - 0s 3ms/step - loss: 0.2269 - mae: 0.3707\n",
      "Epoch 137/200\n",
      "4/4 [==============================] - 0s 3ms/step - loss: 0.2221 - mae: 0.3671\n",
      "Epoch 138/200\n",
      "4/4 [==============================] - 0s 3ms/step - loss: 0.2254 - mae: 0.3765\n",
      "Epoch 139/200\n",
      "4/4 [==============================] - 0s 4ms/step - loss: 0.2345 - mae: 0.3918\n",
      "Epoch 140/200\n",
      "4/4 [==============================] - 0s 3ms/step - loss: 0.2191 - mae: 0.3751\n",
      "Epoch 141/200\n",
      "4/4 [==============================] - 0s 3ms/step - loss: 0.2168 - mae: 0.3634\n",
      "Epoch 142/200\n",
      "4/4 [==============================] - 0s 4ms/step - loss: 0.2203 - mae: 0.3646\n",
      "Epoch 143/200\n",
      "4/4 [==============================] - 0s 3ms/step - loss: 0.2191 - mae: 0.3665\n",
      "Epoch 144/200\n",
      "4/4 [==============================] - 0s 4ms/step - loss: 0.2187 - mae: 0.3677\n",
      "Epoch 145/200\n",
      "4/4 [==============================] - 0s 4ms/step - loss: 0.2210 - mae: 0.3685\n",
      "Epoch 146/200\n",
      "4/4 [==============================] - 0s 3ms/step - loss: 0.2208 - mae: 0.3637\n",
      "Epoch 147/200\n",
      "4/4 [==============================] - 0s 4ms/step - loss: 0.2201 - mae: 0.3640\n",
      "Epoch 148/200\n",
      "4/4 [==============================] - 0s 4ms/step - loss: 0.2150 - mae: 0.3630\n",
      "Epoch 149/200\n",
      "4/4 [==============================] - 0s 4ms/step - loss: 0.2260 - mae: 0.3854\n",
      "Epoch 150/200\n",
      "4/4 [==============================] - 0s 3ms/step - loss: 0.2218 - mae: 0.3838\n",
      "Epoch 151/200\n",
      "4/4 [==============================] - 0s 4ms/step - loss: 0.2239 - mae: 0.3699\n",
      "Epoch 152/200\n",
      "4/4 [==============================] - 0s 3ms/step - loss: 0.2323 - mae: 0.3750\n",
      "Epoch 153/200\n",
      "4/4 [==============================] - 0s 3ms/step - loss: 0.2237 - mae: 0.3722\n",
      "Epoch 154/200\n",
      "4/4 [==============================] - 0s 3ms/step - loss: 0.2202 - mae: 0.3744\n",
      "Epoch 155/200\n",
      "4/4 [==============================] - 0s 4ms/step - loss: 0.2228 - mae: 0.3837\n",
      "Epoch 156/200\n",
      "4/4 [==============================] - 0s 4ms/step - loss: 0.2186 - mae: 0.3774\n",
      "Epoch 157/200\n",
      "4/4 [==============================] - 0s 3ms/step - loss: 0.2212 - mae: 0.3681\n",
      "Epoch 158/200\n",
      "4/4 [==============================] - 0s 3ms/step - loss: 0.2310 - mae: 0.3729\n",
      "Epoch 159/200\n",
      "4/4 [==============================] - 0s 3ms/step - loss: 0.2236 - mae: 0.3689\n",
      "Epoch 160/200\n",
      "4/4 [==============================] - 0s 3ms/step - loss: 0.2158 - mae: 0.3675\n",
      "Epoch 161/200\n",
      "4/4 [==============================] - 0s 3ms/step - loss: 0.2173 - mae: 0.3743\n",
      "Epoch 162/200\n",
      "4/4 [==============================] - 0s 3ms/step - loss: 0.2190 - mae: 0.3707\n",
      "Epoch 163/200\n",
      "4/4 [==============================] - 0s 3ms/step - loss: 0.2283 - mae: 0.3745\n",
      "Epoch 164/200\n",
      "4/4 [==============================] - 0s 4ms/step - loss: 0.2104 - mae: 0.3632\n",
      "Epoch 165/200\n",
      "4/4 [==============================] - 0s 3ms/step - loss: 0.2282 - mae: 0.3871\n",
      "Epoch 166/200\n",
      "4/4 [==============================] - 0s 3ms/step - loss: 0.2197 - mae: 0.3737\n",
      "Epoch 167/200\n",
      "4/4 [==============================] - 0s 4ms/step - loss: 0.2252 - mae: 0.3737\n",
      "Epoch 168/200\n",
      "4/4 [==============================] - 0s 3ms/step - loss: 0.2206 - mae: 0.3668\n",
      "Epoch 169/200\n",
      "4/4 [==============================] - 0s 4ms/step - loss: 0.2229 - mae: 0.3770\n",
      "Epoch 170/200\n",
      "4/4 [==============================] - 0s 4ms/step - loss: 0.2393 - mae: 0.3947\n",
      "Epoch 171/200\n",
      "4/4 [==============================] - 0s 4ms/step - loss: 0.2179 - mae: 0.3680\n",
      "Epoch 172/200\n",
      "4/4 [==============================] - 0s 5ms/step - loss: 0.2353 - mae: 0.3775\n",
      "Epoch 173/200\n",
      "4/4 [==============================] - 0s 5ms/step - loss: 0.2196 - mae: 0.3710\n",
      "Epoch 174/200\n",
      "4/4 [==============================] - 0s 5ms/step - loss: 0.2296 - mae: 0.3911\n",
      "Epoch 175/200\n",
      "4/4 [==============================] - 0s 4ms/step - loss: 0.2349 - mae: 0.3918\n",
      "Epoch 176/200\n"
     ]
    },
    {
     "name": "stdout",
     "output_type": "stream",
     "text": [
      "4/4 [==============================] - 0s 3ms/step - loss: 0.2223 - mae: 0.3662\n",
      "Epoch 177/200\n",
      "4/4 [==============================] - 0s 4ms/step - loss: 0.2195 - mae: 0.3648\n",
      "Epoch 178/200\n",
      "4/4 [==============================] - 0s 4ms/step - loss: 0.2170 - mae: 0.3630\n",
      "Epoch 179/200\n",
      "4/4 [==============================] - 0s 3ms/step - loss: 0.2189 - mae: 0.3666\n",
      "Epoch 180/200\n",
      "4/4 [==============================] - 0s 4ms/step - loss: 0.2276 - mae: 0.3771\n",
      "Epoch 181/200\n",
      "4/4 [==============================] - 0s 3ms/step - loss: 0.2268 - mae: 0.3784\n",
      "Epoch 182/200\n",
      "4/4 [==============================] - 0s 4ms/step - loss: 0.2184 - mae: 0.3692\n",
      "Epoch 183/200\n",
      "4/4 [==============================] - 0s 4ms/step - loss: 0.2203 - mae: 0.3711\n",
      "Epoch 184/200\n",
      "4/4 [==============================] - 0s 4ms/step - loss: 0.2181 - mae: 0.3716\n",
      "Epoch 185/200\n",
      "4/4 [==============================] - 0s 4ms/step - loss: 0.2212 - mae: 0.3695\n",
      "Epoch 186/200\n",
      "4/4 [==============================] - 0s 3ms/step - loss: 0.2227 - mae: 0.3731\n",
      "Epoch 187/200\n",
      "4/4 [==============================] - 0s 3ms/step - loss: 0.2226 - mae: 0.3778\n",
      "Epoch 188/200\n",
      "4/4 [==============================] - 0s 4ms/step - loss: 0.2151 - mae: 0.3644\n",
      "Epoch 189/200\n",
      "4/4 [==============================] - 0s 3ms/step - loss: 0.2559 - mae: 0.3927\n",
      "Epoch 190/200\n",
      "4/4 [==============================] - 0s 3ms/step - loss: 0.2459 - mae: 0.3834\n",
      "Epoch 191/200\n",
      "4/4 [==============================] - 0s 4ms/step - loss: 0.2369 - mae: 0.3951\n",
      "Epoch 192/200\n",
      "4/4 [==============================] - 0s 4ms/step - loss: 0.2759 - mae: 0.4286\n",
      "Epoch 193/200\n",
      "4/4 [==============================] - 0s 3ms/step - loss: 0.2318 - mae: 0.3895\n",
      "Epoch 194/200\n",
      "4/4 [==============================] - 0s 3ms/step - loss: 0.2159 - mae: 0.3681\n",
      "Epoch 195/200\n",
      "4/4 [==============================] - 0s 4ms/step - loss: 0.2172 - mae: 0.3652\n",
      "Epoch 196/200\n",
      "4/4 [==============================] - 0s 4ms/step - loss: 0.2266 - mae: 0.3749\n",
      "Epoch 197/200\n",
      "4/4 [==============================] - 0s 3ms/step - loss: 0.2153 - mae: 0.3692\n",
      "Epoch 198/200\n",
      "4/4 [==============================] - 0s 4ms/step - loss: 0.2367 - mae: 0.3969\n",
      "Epoch 199/200\n",
      "4/4 [==============================] - 0s 4ms/step - loss: 0.2290 - mae: 0.3861\n",
      "Epoch 200/200\n",
      "4/4 [==============================] - 0s 4ms/step - loss: 0.2158 - mae: 0.3641\n"
     ]
    }
   ],
   "source": [
    "r = model.fit(X.reshape(-1, 1), y, epochs = 200, batch_size = 32,)"
   ]
  },
  {
   "cell_type": "code",
   "execution_count": 16,
   "id": "2b107703",
   "metadata": {},
   "outputs": [
    {
     "data": {
      "image/png": "[encoded data removed]",
      "text/plain": [
       "<Figure size 640x480 with 1 Axes>"
      ]
     },
     "metadata": {},
     "output_type": "display_data"
    }
   ],
   "source": [
    "# Plot loss per iteration\n",
    "plt.plot(r.history['loss'], label = 'loss')\n",
    "plt.legend();"
   ]
  },
  {
   "cell_type": "code",
   "execution_count": 18,
   "id": "81461154",
   "metadata": {},
   "outputs": [
    {
     "data": {
      "image/png": "[encoded data removed]",
      "text/plain": [
       "<Figure size 640x480 with 1 Axes>"
      ]
     },
     "metadata": {},
     "output_type": "display_data"
    }
   ],
   "source": [
    "# plot mae per iteration\n",
    "plt.plot(r.history['mae'], label = 'mae')\n",
    "plt.legend();"
   ]
  },
  {
   "cell_type": "code",
   "execution_count": 19,
   "id": "fc75f415",
   "metadata": {},
   "outputs": [
    {
     "name": "stdout",
     "output_type": "stream",
     "text": [
      "1/1 [==============================] - 0s 239ms/step\n"
     ]
    }
   ],
   "source": [
    "# make predictions\n",
    "Xtest = np.linspace(-3, 3, 20).reshape(-1, 1)\n",
    "ptest = model.predict(Xtest)"
   ]
  },
  {
   "cell_type": "code",
   "execution_count": 20,
   "id": "73e538f4",
   "metadata": {},
   "outputs": [
    {
     "data": {
      "text/plain": [
       "[<matplotlib.lines.Line2D at 0x281a91ab940>]"
      ]
     },
     "execution_count": 20,
     "metadata": {},
     "output_type": "execute_result"
    },
    {
     "data": {
      "image/png": "[encoded data removed]",
      "text/plain": [
       "<Figure size 640x480 with 1 Axes>"
      ]
     },
     "metadata": {},
     "output_type": "display_data"
    }
   ],
   "source": [
    "plt.scatter(X, y)\n",
    "plt.plot(Xtest, ptest)"
   ]
  },
  {
   "cell_type": "code",
   "execution_count": 22,
   "id": "0636baa6",
   "metadata": {},
   "outputs": [
    {
     "data": {
      "text/plain": [
       "[<keras.engine.input_layer.InputLayer at 0x281a5445ca0>,\n",
       " <keras.layers.core.dense.Dense at 0x28197b84e20>]"
      ]
     },
     "execution_count": 22,
     "metadata": {},
     "output_type": "execute_result"
    }
   ],
   "source": [
    "# checked the learn parameter:\n",
    "\n",
    "model.layers"
   ]
  },
  {
   "cell_type": "code",
   "execution_count": 23,
   "id": "ab3d5e69",
   "metadata": {},
   "outputs": [
    {
     "data": {
      "text/plain": [
       "[array([[0.541878]], dtype=float32), array([-1.0828971], dtype=float32)]"
      ]
     },
     "execution_count": 23,
     "metadata": {},
     "output_type": "execute_result"
    }
   ],
   "source": [
    "model.layers[1].get_weights()"
   ]
  },
  {
   "cell_type": "code",
   "execution_count": null,
   "id": "faaeebb7",
   "metadata": {},
   "outputs": [],
   "source": []
  }
 ],
 "metadata": {
  "kernelspec": {
   "display_name": "Python 3 (ipykernel)",
   "language": "python",
   "name": "python3"
  },
  "language_info": {
   "codemirror_mode": {
    "name": "ipython",
    "version": 3
   },
   "file_extension": ".py",
   "mimetype": "text/x-python",
   "name": "python",
   "nbconvert_exporter": "python",
   "pygments_lexer": "ipython3",
   "version": "3.9.18"
  }
 },
 "nbformat": 4,
 "nbformat_minor": 5
}
