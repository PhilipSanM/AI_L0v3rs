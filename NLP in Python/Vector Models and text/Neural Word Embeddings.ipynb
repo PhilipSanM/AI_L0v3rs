{
 "cells": [
  {
   "cell_type": "markdown",
   "id": "40c17c3e",
   "metadata": {},
   "source": [
    "# word embedding = word vector"
   ]
  },
  {
   "cell_type": "markdown",
   "id": "90f66d84",
   "metadata": {},
   "source": [
    "* Word2vec (Google)\n",
    "* GloVe (Stanford)"
   ]
  },
  {
   "cell_type": "markdown",
   "id": "3f111040",
   "metadata": {},
   "source": [
    "Word Analogies:    \n",
    "* King - Man = Queen"
   ]
  },
  {
   "cell_type": "markdown",
   "id": "dc4d3fba",
   "metadata": {},
   "source": [
    "* France:Paris :: Italy: Rome\n",
    "* Japan: Japanese :: Chine : Chinese"
   ]
  },
  {
   "cell_type": "code",
   "execution_count": 1,
   "id": "c80f2775",
   "metadata": {},
   "outputs": [],
   "source": [
    "from gensim.models import KeyedVectors"
   ]
  },
  {
   "cell_type": "code",
   "execution_count": 2,
   "id": "c23e7859",
   "metadata": {},
   "outputs": [],
   "source": [
    "word_vectors = KeyedVectors.load_word2vec_format(\n",
    "'.\\GoogleNews-vectors-negative300.bin\\GoogleNews-vectors-negative300.bin',\n",
    "binary = True)"
   ]
  },
  {
   "cell_type": "code",
   "execution_count": 3,
   "id": "0f482cd8",
   "metadata": {},
   "outputs": [],
   "source": [
    "def find_analogies(w1,w2,w3):\n",
    "#     w1 -w2 = ? - w3\n",
    "#     king - man = queen - woman\n",
    "#          ? = w1 + w3 - w2\n",
    "    r = word_vectors.most_similar(positive = [w1,w3], negative = [w2])\n",
    "    return print(f\"{w1} - {w2} = {r[0][0]} - {w3}\")"
   ]
  },
  {
   "cell_type": "code",
   "execution_count": 4,
   "id": "482644c6",
   "metadata": {},
   "outputs": [
    {
     "name": "stdout",
     "output_type": "stream",
     "text": [
      "king - man = queen - woman\n"
     ]
    }
   ],
   "source": [
    "\n",
    "find_analogies('king', 'man', 'woman')"
   ]
  },
  {
   "cell_type": "code",
   "execution_count": 5,
   "id": "82e93cdd",
   "metadata": {},
   "outputs": [],
   "source": [
    "def nearest_neighbors(w):\n",
    "    r = word_vectors.most_similar(positive = [w])\n",
    "    for word, score in r:\n",
    "        print(f\"\\t{word}\")"
   ]
  },
  {
   "cell_type": "code",
   "execution_count": 6,
   "id": "f7be77c8",
   "metadata": {},
   "outputs": [
    {
     "name": "stdout",
     "output_type": "stream",
     "text": [
      "\tFernando\n",
      "\tJuan_Pablo\n",
      "\tJorge\n",
      "\tMiguel\n",
      "\tJose\n",
      "\tJavier\n",
      "\tLuis\n",
      "\tJosé\n",
      "\tOswaldo\n",
      "\tCarlos\n"
     ]
    }
   ],
   "source": [
    "nearest_neighbors(\"Felipe\")"
   ]
  },
  {
   "cell_type": "code",
   "execution_count": 7,
   "id": "b2c94a67",
   "metadata": {},
   "outputs": [
    {
     "name": "stdout",
     "output_type": "stream",
     "text": [
      "king - man = queen - women\n"
     ]
    }
   ],
   "source": [
    "find_analogies('king', 'man', 'women')"
   ]
  },
  {
   "cell_type": "code",
   "execution_count": 8,
   "id": "36c3a264",
   "metadata": {},
   "outputs": [
    {
     "name": "stdout",
     "output_type": "stream",
     "text": [
      "rey - hombre = llamada - mujer\n"
     ]
    }
   ],
   "source": [
    "find_analogies('rey', 'hombre', 'mujer')"
   ]
  },
  {
   "cell_type": "code",
   "execution_count": null,
   "id": "5425fa00",
   "metadata": {},
   "outputs": [],
   "source": []
  }
 ],
 "metadata": {
  "kernelspec": {
   "display_name": "Python 3 (ipykernel)",
   "language": "python",
   "name": "python3"
  },
  "language_info": {
   "codemirror_mode": {
    "name": "ipython",
    "version": 3
   },
   "file_extension": ".py",
   "mimetype": "text/x-python",
   "name": "python",
   "nbconvert_exporter": "python",
   "pygments_lexer": "ipython3",
   "version": "3.9.18"
  }
 },
 "nbformat": 4,
 "nbformat_minor": 5
}
