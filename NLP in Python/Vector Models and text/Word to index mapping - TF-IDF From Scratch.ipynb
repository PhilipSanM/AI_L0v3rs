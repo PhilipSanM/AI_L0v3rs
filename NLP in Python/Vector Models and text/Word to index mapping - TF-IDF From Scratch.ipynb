{
 "cells": [
  {
   "cell_type": "markdown",
   "id": "71967438",
   "metadata": {},
   "source": [
    "# Word 2 index Mapping"
   ]
  },
  {
   "cell_type": "markdown",
   "id": "a3a3998c",
   "metadata": {},
   "source": [
    "When converting documebnts to vectors, the result is a document-term matrix\n"
   ]
  },
  {
   "cell_type": "markdown",
   "id": "51198b0f",
   "metadata": {},
   "source": [
    "But, wich column, corresponds to wich word?\n",
    "\n",
    "    Alpha order? Appearance order? Frequency order?"
   ]
  },
  {
   "cell_type": "markdown",
   "id": "a7e26b10",
   "metadata": {},
   "source": [
    "It depends on you"
   ]
  },
  {
   "cell_type": "markdown",
   "id": "058abd74",
   "metadata": {},
   "source": [
    "# TF-IDF From Scratch"
   ]
  },
  {
   "cell_type": "code",
   "execution_count": 1,
   "id": "3c58431f",
   "metadata": {},
   "outputs": [],
   "source": [
    "import pandas as pd\n",
    "import numpy as np\n",
    "import nltk\n",
    "\n",
    "from nltk import word_tokenizekenize"
   ]
  },
  {
   "cell_type": "code",
   "execution_count": 3,
   "id": "9521ebac",
   "metadata": {},
   "outputs": [
    {
     "name": "stderr",
     "output_type": "stream",
     "text": [
      "[nltk_data] Downloading package punkt to\n",
      "[nltk_data]     C:\\Users\\MrJel\\AppData\\Roaming\\nltk_data...\n",
      "[nltk_data]   Package punkt is already up-to-date!\n"
     ]
    },
    {
     "data": {
      "text/plain": [
       "True"
      ]
     },
     "execution_count": 3,
     "metadata": {},
     "output_type": "execute_result"
    }
   ],
   "source": [
    "\n",
    "nltk.download('punkt')"
   ]
  },
  {
   "cell_type": "code",
   "execution_count": 4,
   "id": "c5874443",
   "metadata": {},
   "outputs": [
    {
     "data": {
      "text/html": [
       "<div>\n",
       "<style scoped>\n",
       "    .dataframe tbody tr th:only-of-type {\n",
       "        vertical-align: middle;\n",
       "    }\n",
       "\n",
       "    .dataframe tbody tr th {\n",
       "        vertical-align: top;\n",
       "    }\n",
       "\n",
       "    .dataframe thead th {\n",
       "        text-align: right;\n",
       "    }\n",
       "</style>\n",
       "<table border=\"1\" class=\"dataframe\">\n",
       "  <thead>\n",
       "    <tr style=\"text-align: right;\">\n",
       "      <th></th>\n",
       "      <th>text</th>\n",
       "      <th>labels</th>\n",
       "    </tr>\n",
       "  </thead>\n",
       "  <tbody>\n",
       "    <tr>\n",
       "      <th>0</th>\n",
       "      <td>Ad sales boost Time Warner profit\\n\\nQuarterly...</td>\n",
       "      <td>business</td>\n",
       "    </tr>\n",
       "    <tr>\n",
       "      <th>1</th>\n",
       "      <td>Dollar gains on Greenspan speech\\n\\nThe dollar...</td>\n",
       "      <td>business</td>\n",
       "    </tr>\n",
       "    <tr>\n",
       "      <th>2</th>\n",
       "      <td>Yukos unit buyer faces loan claim\\n\\nThe owner...</td>\n",
       "      <td>business</td>\n",
       "    </tr>\n",
       "    <tr>\n",
       "      <th>3</th>\n",
       "      <td>High fuel prices hit BA's profits\\n\\nBritish A...</td>\n",
       "      <td>business</td>\n",
       "    </tr>\n",
       "    <tr>\n",
       "      <th>4</th>\n",
       "      <td>Pernod takeover talk lifts Domecq\\n\\nShares in...</td>\n",
       "      <td>business</td>\n",
       "    </tr>\n",
       "  </tbody>\n",
       "</table>\n",
       "</div>"
      ],
      "text/plain": [
       "                                                text    labels\n",
       "0  Ad sales boost Time Warner profit\\n\\nQuarterly...  business\n",
       "1  Dollar gains on Greenspan speech\\n\\nThe dollar...  business\n",
       "2  Yukos unit buyer faces loan claim\\n\\nThe owner...  business\n",
       "3  High fuel prices hit BA's profits\\n\\nBritish A...  business\n",
       "4  Pernod takeover talk lifts Domecq\\n\\nShares in...  business"
      ]
     },
     "execution_count": 4,
     "metadata": {},
     "output_type": "execute_result"
    }
   ],
   "source": [
    "df = pd.read_csv('bbc_text_cls.csv')\n",
    "df.head()"
   ]
  },
  {
   "cell_type": "code",
   "execution_count": 5,
   "id": "4f746ab5",
   "metadata": {},
   "outputs": [],
   "source": [
    "# Populate word2index\n",
    "\n",
    "idx = 0\n",
    "word2index = {}\n",
    "tokenized_docs = []\n",
    "for doc in df['text']:\n",
    "    words = word_tokenize(doc.lower())\n",
    "    doc_as_int = []\n",
    "    for word in words:\n",
    "        if word not in word2index:\n",
    "            word2index[word] = idx\n",
    "            idx += 1\n",
    "            \n",
    "        doc_as_int.append(word2index[word])\n",
    "    \n",
    "    tokenized_docs.append(doc_as_int)\n",
    "    \n",
    "        "
   ]
  },
  {
   "cell_type": "code",
   "execution_count": 6,
   "id": "b338a105",
   "metadata": {},
   "outputs": [],
   "source": [
    "#  reverse mapping\n",
    "\n",
    "idx2word = {v:k for k, v in word2index.items() }"
   ]
  },
  {
   "cell_type": "code",
   "execution_count": 7,
   "id": "badc7a99",
   "metadata": {},
   "outputs": [],
   "source": [
    "n_documents = len(df['text'])\n",
    "n_words = len(word2index)"
   ]
  },
  {
   "cell_type": "code",
   "execution_count": 8,
   "id": "ca920ffa",
   "metadata": {},
   "outputs": [],
   "source": [
    "# Instatiate term-frecuency matrix\n",
    "# \n",
    "tf = np.zeros((n_documents, n_words))"
   ]
  },
  {
   "cell_type": "code",
   "execution_count": 9,
   "id": "40411326",
   "metadata": {},
   "outputs": [],
   "source": [
    "# populate term-frequency counts\n",
    "\n",
    "for i, doc_as_int in enumerate(tokenized_docs):\n",
    "    for j in doc_as_int:\n",
    "        tf[i, j] += 1\n",
    "        "
   ]
  },
  {
   "cell_type": "code",
   "execution_count": 10,
   "id": "bdae4837",
   "metadata": {},
   "outputs": [],
   "source": [
    "# Compute IDF\n",
    "\n",
    "document_freq = np.sum(tf > 0, axis = 0)\n",
    "idf = np.log(n_documents / document_freq)"
   ]
  },
  {
   "cell_type": "code",
   "execution_count": 11,
   "id": "8efbf6ac",
   "metadata": {},
   "outputs": [],
   "source": [
    "# compute TF-IDF\n",
    "\n",
    "tf_idf = tf * idf"
   ]
  },
  {
   "cell_type": "code",
   "execution_count": 13,
   "id": "b59b1fef",
   "metadata": {},
   "outputs": [],
   "source": [
    "np.random.seed(123)"
   ]
  },
  {
   "cell_type": "code",
   "execution_count": 15,
   "id": "8c968234",
   "metadata": {},
   "outputs": [
    {
     "name": "stdout",
     "output_type": "stream",
     "text": [
      "label:  politics\n",
      "text: Clarke faces ID cards rebellion\n",
      "Top 5 terms:\n",
      "cards\n",
      "clarke\n",
      "rebellion\n",
      "id\n",
      "bill\n"
     ]
    }
   ],
   "source": [
    "# pick a random document, show the top 5 terms (in terms of tf_idf score)\n",
    "\n",
    "i = np.random.choice(n_documents)\n",
    "row = df.iloc[i]\n",
    "\n",
    "print(\"label: \", row['labels'])\n",
    "print(\"text:\", row['text'].split(\"\\n\", 1)[0])\n",
    "print(\"Top 5 terms:\")\n",
    "\n",
    "scores = tf_idf[i]\n",
    "\n",
    "indices = (-scores).argsort()\n",
    "\n",
    "for j in indices[:5]:\n",
    "    print(idx2word[j])"
   ]
  },
  {
   "cell_type": "markdown",
   "id": "049d9dda",
   "metadata": {},
   "source": [
    "Words that best represent the article"
   ]
  },
  {
   "cell_type": "code",
   "execution_count": null,
   "id": "a0f646f2",
   "metadata": {},
   "outputs": [],
   "source": []
  }
 ],
 "metadata": {
  "kernelspec": {
   "display_name": "Python 3 (ipykernel)",
   "language": "python",
   "name": "python3"
  },
  "language_info": {
   "codemirror_mode": {
    "name": "ipython",
    "version": 3
   },
   "file_extension": ".py",
   "mimetype": "text/x-python",
   "name": "python",
   "nbconvert_exporter": "python",
   "pygments_lexer": "ipython3",
   "version": "3.9.18"
  }
 },
 "nbformat": 4,
 "nbformat_minor": 5
}
