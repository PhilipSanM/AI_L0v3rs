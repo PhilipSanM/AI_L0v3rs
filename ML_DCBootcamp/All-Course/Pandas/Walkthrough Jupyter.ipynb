{
 "cells": [
  {
   "cell_type": "markdown",
   "id": "6cb6e528",
   "metadata": {},
   "source": [
    "# Jupyter walkthrough\n"
   ]
  },
  {
   "cell_type": "markdown",
   "id": "08a7bb0e",
   "metadata": {},
   "source": [
    "----"
   ]
  },
  {
   "cell_type": "markdown",
   "id": "d62fec99",
   "metadata": {},
   "source": [
    "###### You can have code and text in a book, and that's it\n"
   ]
  },
  {
   "cell_type": "code",
   "execution_count": 1,
   "id": "57e587a9",
   "metadata": {},
   "outputs": [
    {
     "name": "stdout",
     "output_type": "stream",
     "text": [
      "Coding from jupyter\n"
     ]
    }
   ],
   "source": [
    "print(\"Coding from jupyter\")"
   ]
  },
  {
   "cell_type": "markdown",
   "id": "44706576",
   "metadata": {},
   "source": [
    "Some shortcut are the letter  \"m\" for markdown and \"y\" for code"
   ]
  },
  {
   "cell_type": "code",
   "execution_count": 2,
   "id": "bb3513de",
   "metadata": {},
   "outputs": [
    {
     "name": "stdout",
     "output_type": "stream",
     "text": [
      "shift + enter\n"
     ]
    }
   ],
   "source": [
    "print(\"shift + enter\")"
   ]
  },
  {
   "cell_type": "markdown",
   "id": "744195d1",
   "metadata": {},
   "source": [
    "For entering a new line \"a\" for above or \"b\" for below and \"d\" for delete"
   ]
  },
  {
   "cell_type": "markdown",
   "id": "c5eaca97",
   "metadata": {},
   "source": [
    "\"Esc\" to escape from edit mode and shift enter tu run and new line\n"
   ]
  },
  {
   "cell_type": "code",
   "execution_count": 4,
   "id": "18bc3867",
   "metadata": {
    "scrolled": true
   },
   "outputs": [
    {
     "name": "stdout",
     "output_type": "stream",
     "text": [
      "------------------------ \n",
      " So lets start \n",
      " ----------------------\n"
     ]
    }
   ],
   "source": [
    "print(\"------------------------\",\"\\n\",\n",
    "        \"So lets start\", \"\\n\",\n",
    "        \"----------------------\")"
   ]
  },
  {
   "cell_type": "code",
   "execution_count": 5,
   "id": "6f69321d",
   "metadata": {},
   "outputs": [],
   "source": [
    "import pandas"
   ]
  },
  {
   "cell_type": "code",
   "execution_count": 6,
   "id": "497a14ac",
   "metadata": {},
   "outputs": [],
   "source": [
    "data_frame = pandas.read_csv(\"heart-disease.csv\")"
   ]
  },
  {
   "cell_type": "code",
   "execution_count": 10,
   "id": "b36060d5",
   "metadata": {
    "scrolled": true
   },
   "outputs": [
    {
     "data": {
      "text/html": [
       "<div>\n",
       "<style scoped>\n",
       "    .dataframe tbody tr th:only-of-type {\n",
       "        vertical-align: middle;\n",
       "    }\n",
       "\n",
       "    .dataframe tbody tr th {\n",
       "        vertical-align: top;\n",
       "    }\n",
       "\n",
       "    .dataframe thead th {\n",
       "        text-align: right;\n",
       "    }\n",
       "</style>\n",
       "<table border=\"1\" class=\"dataframe\">\n",
       "  <thead>\n",
       "    <tr style=\"text-align: right;\">\n",
       "      <th></th>\n",
       "      <th>age</th>\n",
       "      <th>sex</th>\n",
       "      <th>cp</th>\n",
       "      <th>trestbps</th>\n",
       "      <th>chol</th>\n",
       "      <th>fbs</th>\n",
       "      <th>restecg</th>\n",
       "      <th>thalach</th>\n",
       "      <th>exang</th>\n",
       "      <th>oldpeak</th>\n",
       "      <th>slope</th>\n",
       "      <th>ca</th>\n",
       "      <th>thal</th>\n",
       "      <th>target</th>\n",
       "    </tr>\n",
       "  </thead>\n",
       "  <tbody>\n",
       "    <tr>\n",
       "      <th>0</th>\n",
       "      <td>63</td>\n",
       "      <td>1</td>\n",
       "      <td>3</td>\n",
       "      <td>145</td>\n",
       "      <td>233</td>\n",
       "      <td>1</td>\n",
       "      <td>0</td>\n",
       "      <td>150</td>\n",
       "      <td>0</td>\n",
       "      <td>2.3</td>\n",
       "      <td>0</td>\n",
       "      <td>0</td>\n",
       "      <td>1</td>\n",
       "      <td>1</td>\n",
       "    </tr>\n",
       "    <tr>\n",
       "      <th>1</th>\n",
       "      <td>37</td>\n",
       "      <td>1</td>\n",
       "      <td>2</td>\n",
       "      <td>130</td>\n",
       "      <td>250</td>\n",
       "      <td>0</td>\n",
       "      <td>1</td>\n",
       "      <td>187</td>\n",
       "      <td>0</td>\n",
       "      <td>3.5</td>\n",
       "      <td>0</td>\n",
       "      <td>0</td>\n",
       "      <td>2</td>\n",
       "      <td>1</td>\n",
       "    </tr>\n",
       "    <tr>\n",
       "      <th>2</th>\n",
       "      <td>41</td>\n",
       "      <td>0</td>\n",
       "      <td>1</td>\n",
       "      <td>130</td>\n",
       "      <td>204</td>\n",
       "      <td>0</td>\n",
       "      <td>0</td>\n",
       "      <td>172</td>\n",
       "      <td>0</td>\n",
       "      <td>1.4</td>\n",
       "      <td>2</td>\n",
       "      <td>0</td>\n",
       "      <td>2</td>\n",
       "      <td>1</td>\n",
       "    </tr>\n",
       "  </tbody>\n",
       "</table>\n",
       "</div>"
      ],
      "text/plain": [
       "   age  sex  cp  trestbps  chol  fbs  restecg  thalach  exang  oldpeak  slope  \\\n",
       "0   63    1   3       145   233    1        0      150      0      2.3      0   \n",
       "1   37    1   2       130   250    0        1      187      0      3.5      0   \n",
       "2   41    0   1       130   204    0        0      172      0      1.4      2   \n",
       "\n",
       "   ca  thal  target  \n",
       "0   0     1       1  \n",
       "1   0     2       1  \n",
       "2   0     2       1  "
      ]
     },
     "execution_count": 10,
     "metadata": {},
     "output_type": "execute_result"
    }
   ],
   "source": [
    "data_frame.head(3)"
   ]
  },
  {
   "cell_type": "code",
   "execution_count": 11,
   "id": "2bb75853",
   "metadata": {},
   "outputs": [
    {
     "data": {
      "text/plain": [
       "<Axes: >"
      ]
     },
     "execution_count": 11,
     "metadata": {},
     "output_type": "execute_result"
    },
    {
     "data": {
      "image/png": "[encoded data removed]",
      "text/plain": [
       "<Figure size 640x480 with 1 Axes>"
      ]
     },
     "metadata": {},
     "output_type": "display_data"
    }
   ],
   "source": [
    "data_frame.target.value_counts().plot(kind = \"bar\")"
   ]
  },
  {
   "cell_type": "code",
   "execution_count": 12,
   "id": "f8df22d4",
   "metadata": {},
   "outputs": [],
   "source": [
    "from matplotlib import pyplot"
   ]
  },
  {
   "cell_type": "markdown",
   "id": "c3aee7b4",
   "metadata": {},
   "source": [
    "![](6-step-ml-framework.png)"
   ]
  },
  {
   "cell_type": "markdown",
   "id": "48a39840",
   "metadata": {},
   "source": [
    "## 1. Problem definition"
   ]
  },
  {
   "cell_type": "markdown",
   "id": "e03ac2b1",
   "metadata": {},
   "source": [
    "---"
   ]
  },
  {
   "cell_type": "markdown",
   "id": "37ed0b59",
   "metadata": {},
   "source": [
    "### Also you can run terminal commands"
   ]
  },
  {
   "cell_type": "code",
   "execution_count": 14,
   "id": "0ed06fa9",
   "metadata": {},
   "outputs": [
    {
     "name": "stdout",
     "output_type": "stream",
     "text": [
      " Volume in drive C is Windows\n",
      " Volume Serial Number is 0C3A-DF51\n",
      "\n",
      " Directory of C:\\Users\\MrJel\\Desktop\\Felix\\Gitthis\\AI_L0v3rs\\ML_DCBootcamp\\Enviroment\n",
      "\n",
      "05/15/2023  05:41 PM    <DIR>          .\n",
      "05/14/2023  01:11 PM    <DIR>          ..\n",
      "05/14/2023  01:34 PM    <DIR>          .ipynb_checkpoints\n",
      "05/15/2023  05:24 PM           332,025 6-step-ml-framework.png\n",
      "05/14/2023  01:27 PM    <DIR>          env\n",
      "05/15/2023  05:23 PM            11,328 heart-disease.csv\n",
      "05/14/2023  01:33 PM               389 README.md\n",
      "05/15/2023  05:41 PM            18,273 Walkthrough Jupyter.ipynb\n",
      "               4 File(s)        362,015 bytes\n",
      "               4 Dir(s)  169,985,089,536 bytes free\n"
     ]
    }
   ],
   "source": [
    "ls\n"
   ]
  },
  {
   "cell_type": "markdown",
   "id": "d66b3b0a",
   "metadata": {},
   "source": [
    "To save also \"ctrl\" + \"s\""
   ]
  },
  {
   "cell_type": "markdown",
   "id": "dd3e03ca",
   "metadata": {},
   "source": []
  }
 ],
 "metadata": {
  "kernelspec": {
   "display_name": "Python 3 (ipykernel)",
   "language": "python",
   "name": "python3"
  },
  "language_info": {
   "codemirror_mode": {
    "name": "ipython",
    "version": 3
   },
   "file_extension": ".py",
   "mimetype": "text/x-python",
   "name": "python",
   "nbconvert_exporter": "python",
   "pygments_lexer": "ipython3",
   "version": "3.11.3"
  }
 },
 "nbformat": 4,
 "nbformat_minor": 5
}
