{
 "cells": [
  {
   "cell_type": "markdown",
   "id": "69a5dd40",
   "metadata": {},
   "source": [
    "# Multiple inputs: Complete runnable code"
   ]
  },
  {
   "cell_type": "code",
   "execution_count": 7,
   "id": "5ffcaf61",
   "metadata": {},
   "outputs": [
    {
     "name": "stdout",
     "output_type": "stream",
     "text": [
      "0.9800000000000001\n"
     ]
    }
   ],
   "source": [
    "\n",
    "# Dot product\n",
    "def w_sum(a,b):\n",
    "    assert(len(a) == len(b))\n",
    "    output = 0\n",
    "    for i in range(len(a)):\n",
    "        output += (a[i]*b[i])\n",
    "    return output\n",
    "\n",
    "def neural_network(input,weights):\n",
    "    pred = w_sum(input,weights)\n",
    "    return pred\n",
    "\n",
    "toes = [8.5,9.5,10,9]\n",
    "\n",
    "wlrec = [0.65,0.8,0.8,0.9]\n",
    "\n",
    "nfans = [1.2,1.3,0.5,1.0]\n",
    "\n",
    "input = [toes[0],wlrec[0],nfans[0]]\n",
    "\n",
    "pred = neural_network(input,weights)\n",
    "\n",
    "print(pred)"
   ]
  },
  {
   "cell_type": "markdown",
   "id": "7fcf90bc",
   "metadata": {},
   "source": [
    "## NumPy code"
   ]
  },
  {
   "cell_type": "code",
   "execution_count": 6,
   "id": "4755d9ce",
   "metadata": {},
   "outputs": [
    {
     "name": "stdout",
     "output_type": "stream",
     "text": [
      "0.9800000000000001\n"
     ]
    }
   ],
   "source": [
    "# Numerical Python\n",
    "import numpy as np\n",
    "\n",
    "weights = np.array([0.1,0.2,0])\n",
    "\n",
    "def neural_network(input,weights):\n",
    "    pred = input.dot(weights)\n",
    "    return pred\n",
    "\n",
    "toes = np.array([8.5,9.5,10,9])\n",
    "\n",
    "wlrec = np.array([0.65,0.8,0.8,0.9])\n",
    "\n",
    "nfans = np.array([1.2,1.3,0.5,1.0])\n",
    "\n",
    "input = np.array([toes[0],wlrec[0],nfans[0]])\n",
    "\n",
    "pred = neural_network(input,weights)\n",
    "\n",
    "print(pred)"
   ]
  },
  {
   "cell_type": "markdown",
   "id": "3fc5705b",
   "metadata": {},
   "source": [
    "Numpy has very efficient code for creating common functions (such as dot products). "
   ]
  },
  {
   "cell_type": "markdown",
   "id": "7393cb5e",
   "metadata": {},
   "source": [
    "--"
   ]
  },
  {
   "cell_type": "code",
   "execution_count": null,
   "id": "603e78d2",
   "metadata": {},
   "outputs": [],
   "source": []
  }
 ],
 "metadata": {
  "kernelspec": {
   "display_name": "Python 3 (ipykernel)",
   "language": "python",
   "name": "python3"
  },
  "language_info": {
   "codemirror_mode": {
    "name": "ipython",
    "version": 3
   },
   "file_extension": ".py",
   "mimetype": "text/x-python",
   "name": "python",
   "nbconvert_exporter": "python",
   "pygments_lexer": "ipython3",
   "version": "3.9.12"
  }
 },
 "nbformat": 4,
 "nbformat_minor": 5
}
