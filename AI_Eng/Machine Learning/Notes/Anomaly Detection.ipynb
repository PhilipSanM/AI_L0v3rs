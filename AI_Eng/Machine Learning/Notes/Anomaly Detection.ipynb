{
 "cells": [
  {
   "cell_type": "markdown",
   "id": "4aa59da6",
   "metadata": {},
   "source": [
    "## Using Standar Desviation"
   ]
  },
  {
   "cell_type": "code",
   "execution_count": 1,
   "id": "f9862773",
   "metadata": {},
   "outputs": [],
   "source": [
    "import numpy as np"
   ]
  },
  {
   "cell_type": "code",
   "execution_count": 2,
   "id": "6e3ea65f",
   "metadata": {},
   "outputs": [],
   "source": [
    "data = np.random.normal(loc=0, scale=1, size=100)"
   ]
  },
  {
   "cell_type": "code",
   "execution_count": 4,
   "id": "e4e3e269",
   "metadata": {},
   "outputs": [
    {
     "data": {
      "text/plain": [
       "-0.16789692944206308"
      ]
     },
     "execution_count": 4,
     "metadata": {},
     "output_type": "execute_result"
    }
   ],
   "source": [
    "mean = np.mean(data)\n",
    "std_dev = np.std(data)\n",
    "\n",
    "mean"
   ]
  },
  {
   "cell_type": "code",
   "execution_count": 5,
   "id": "0b00d6f8",
   "metadata": {},
   "outputs": [
    {
     "data": {
      "text/plain": [
       "0.9098679336096229"
      ]
     },
     "execution_count": 5,
     "metadata": {},
     "output_type": "execute_result"
    }
   ],
   "source": [
    "std_dev"
   ]
  },
  {
   "cell_type": "code",
   "execution_count": 6,
   "id": "98720009",
   "metadata": {},
   "outputs": [],
   "source": [
    "threshold = 3"
   ]
  },
  {
   "cell_type": "code",
   "execution_count": 12,
   "id": "45860ff4",
   "metadata": {},
   "outputs": [],
   "source": [
    "outliers = []\n",
    "\n",
    "for i in data:\n",
    "    z_score = (i - mean) / std_dev\n",
    "    if np.abs(z_score) > threshold:\n",
    "        outliers.append(i)"
   ]
  },
  {
   "cell_type": "code",
   "execution_count": 13,
   "id": "de9dfb99",
   "metadata": {},
   "outputs": [
    {
     "name": "stdout",
     "output_type": "stream",
     "text": [
      "Original data:   [ 0.81733823 -1.26640329  0.38975501  0.12989292  1.10462153  0.29286627\n",
      "  0.00456591 -0.80274612  0.08668992  0.00956126 -0.13584291  0.08734361\n",
      " -1.04334187  0.7128315   0.23583282 -0.42448843 -1.3778778   0.25160088\n",
      " -0.43505651 -0.12876606 -0.9535374  -0.46241432 -1.05014184 -0.5945903\n",
      " -0.88637684 -2.52362161  0.16891329 -1.40948603 -1.21479131 -0.0666258\n",
      " -1.85014127 -0.0054655   1.80909461  0.58945442  1.80633426  0.61289248\n",
      "  0.20598553 -2.6076315  -0.24165388  1.43610073 -1.03286619 -0.46789883\n",
      " -0.01195659 -0.58563348 -0.30775307 -0.8792122   0.99957621  0.03414345\n",
      "  1.0507117  -1.48908804 -0.26149902 -2.10295601 -0.74556892  0.24350689\n",
      "  0.11148751  1.16003902 -1.44933455 -0.88161642  1.67055086 -0.26708203\n",
      "  0.62292846  0.89675211 -0.09080793 -1.11149994  0.56502513 -1.1543214\n",
      " -0.69868295 -1.55579668 -0.29095031  0.99328726 -0.40565209  0.6707055\n",
      " -0.60025485 -0.1947551   0.19944661 -1.08122988  0.32014662  0.74563258\n",
      " -1.03689745 -0.43618422 -0.44243178  0.03789322  1.91184613  0.16477016\n",
      " -0.51967616  0.16637948  0.67006409 -0.8333794   0.87768815 -0.13306892\n",
      "  0.9168777  -1.11702796 -0.76943469 -0.97322695 -0.0655111   0.63445638\n",
      "  1.51907176 -0.17532017 -0.61467589 -0.46010333]\n",
      "Mean of data:  -0.16789692944206308\n",
      "Standar Desviation:  0.9098679336096229\n",
      "Data Anomaly Detected:  []\n"
     ]
    }
   ],
   "source": [
    "print(\"Original data:  \", data)\n",
    "print(\"Mean of data: \", mean)\n",
    "print(\"Standar Desviation: \", std_dev)\n",
    "print(\"Data Anomaly Detected: \", outliers)"
   ]
  },
  {
   "cell_type": "markdown",
   "id": "0795b298",
   "metadata": {},
   "source": [
    "\n",
    "## IQR (Interquartile Range)"
   ]
  },
  {
   "cell_type": "markdown",
   "id": "a2e2506e",
   "metadata": {},
   "source": [
    "1.- You sort the data, and calculate the first quartile Q1, that is the mean, betwen the less value in the dataset and the median(el menor numero del conjunto de dats y la media)\n",
    "\n",
    "2.- Calculate Q3 (Es el valor medio entre la mediana y el valor mas alto del conjunto de datos)\n",
    "\n",
    "4.- Calculate IQR\n",
    "\n",
    "    IQR = Q3 - Q1\n",
    "  \n",
    "5.- Determine the cut umbral (cut-off threshold), usually 1.5 times more than IQR\n",
    "\n",
    "6.- Whatever value below Q1 - 1.5(IQR) or above Q3 + 1.5(1QR), will be an outlier value"
   ]
  },
  {
   "cell_type": "code",
   "execution_count": 14,
   "id": "9de473fa",
   "metadata": {},
   "outputs": [],
   "source": [
    "Q1 = np.percentile(data, 25)\n",
    "Q3 = np.percentile(data, 75)"
   ]
  },
  {
   "cell_type": "code",
   "execution_count": 15,
   "id": "ed7be54f",
   "metadata": {},
   "outputs": [],
   "source": [
    "IQR = Q3 - Q1"
   ]
  },
  {
   "cell_type": "code",
   "execution_count": 17,
   "id": "e020d159",
   "metadata": {},
   "outputs": [
    {
     "name": "stdout",
     "output_type": "stream",
     "text": [
      "2.059478458494839\n"
     ]
    },
    {
     "data": {
      "text/plain": [
       "-2.5323341818020086"
      ]
     },
     "execution_count": 17,
     "metadata": {},
     "output_type": "execute_result"
    }
   ],
   "source": [
    "lower_bound = Q1 - 1.5*IQR\n",
    "upper_bound = Q3 + 1.5*IQR\n",
    "print(upper_bound)\n",
    "lower_bound\n"
   ]
  },
  {
   "cell_type": "code",
   "execution_count": 32,
   "id": "05d884b6",
   "metadata": {},
   "outputs": [],
   "source": [
    "# outliers = data[(data < lower_bound) | (data > upper_bound)]\n",
    "\n",
    "outliers = []\n",
    "\n",
    "for value in data:\n",
    "    if value < lower_bound or value > upper_bound:\n",
    "        outliers.append(value)\n",
    "\n"
   ]
  },
  {
   "cell_type": "code",
   "execution_count": 33,
   "id": "3bd1b953",
   "metadata": {},
   "outputs": [
    {
     "name": "stdout",
     "output_type": "stream",
     "text": [
      "Original data:   [-7.10584404e-01 -3.79436000e-01 -3.67277722e-01 -1.90841487e+00\n",
      "  6.17124153e-01  2.06020802e+00 -6.38187452e-01 -2.74479588e-01\n",
      " -1.93531082e+00 -7.73396031e-01 -1.57335016e+00  2.47329870e+00\n",
      " -1.73673288e-01  1.08026236e+00 -6.89878731e-01 -5.48362100e-01\n",
      "  2.64926497e-01  8.23101808e-01  2.89581444e-02  5.02613015e-01\n",
      "  7.39679059e-01 -1.33573695e+00  9.50789270e-01 -6.58795840e-01\n",
      "  1.48300091e-01 -3.46695334e-01  1.50968861e-01  3.77971403e-02\n",
      " -3.98467886e-01 -9.53475365e-01 -6.61373728e-01  7.75006390e-01\n",
      "  1.98414589e-01 -4.28662708e-01 -1.41957365e+00 -6.50056366e-01\n",
      " -1.18888442e-02  1.57723939e+00  5.69918982e-01  1.57091074e+00\n",
      " -5.45293624e-01 -1.85452078e-01 -9.19794576e-01 -7.58252058e-01\n",
      " -4.90943407e-01  1.97188269e-01  2.16149680e+00 -5.84983470e-01\n",
      " -1.03571266e+00 -1.06633994e-02 -7.54296773e-01  3.63300774e-01\n",
      "  2.68354795e-01 -3.20133216e-01 -5.52285020e-01  2.35227006e-01\n",
      " -5.57923236e-01 -2.59988763e-01 -3.92877275e-01  4.86837521e-01\n",
      " -8.44228673e-01  1.46447309e-01  1.93298190e+00 -3.04253813e-01\n",
      "  6.62315395e-01 -1.88673356e-03 -9.84917511e-02  4.17056217e-01\n",
      " -8.40037450e-01  1.78474531e+00  1.05755833e+00 -7.93310378e-01\n",
      " -7.73932259e-02 -8.23210783e-01 -1.57010784e+00 -4.20525910e-01\n",
      " -1.39259121e+00 -1.36274538e-01  1.45466300e-01  8.65274758e-02\n",
      " -1.24812240e+00 -2.23657234e-01  1.18775818e+00 -9.14786025e-01\n",
      " -5.36425880e-01 -4.68062700e-01 -3.05778057e-01 -2.68244606e-01\n",
      "  1.06934869e+00  1.28961268e+00 -3.41042486e-01  4.33683736e-01\n",
      "  1.40382701e+00  8.22493973e-02  2.17221932e+00 -4.33958555e-01\n",
      " -8.14588690e-01  3.92549244e-03  1.45414481e+00  2.73807504e-01]\n",
      "Q1:  -0.641154680969255\n",
      "Q3:  0.42121309637507187\n",
      "IQR:   1.0623677773443267\n",
      "Lower bound:  -2.234706346985745\n",
      "Upper bound: 2.014764762391562\n",
      "Outliers:  [2.060208023786724, 2.4732986980130294, 2.161496798942725, 2.1722193231274622]\n"
     ]
    }
   ],
   "source": [
    "print(\"Original data:  \", data)\n",
    "print(\"Q1: \", Q1)\n",
    "print(\"Q3: \", Q3)\n",
    "print(\"IQR:  \", IQR)\n",
    "print(\"Lower bound: \", lower_bound)\n",
    "print(\"Upper bound:\", upper_bound)\n",
    "print(\"Outliers: \", outliers)"
   ]
  },
  {
   "cell_type": "code",
   "execution_count": null,
   "id": "7a3c3254",
   "metadata": {},
   "outputs": [],
   "source": []
  }
 ],
 "metadata": {
  "kernelspec": {
   "display_name": "Python 3 (ipykernel)",
   "language": "python",
   "name": "python3"
  },
  "language_info": {
   "codemirror_mode": {
    "name": "ipython",
    "version": 3
   },
   "file_extension": ".py",
   "mimetype": "text/x-python",
   "name": "python",
   "nbconvert_exporter": "python",
   "pygments_lexer": "ipython3",
   "version": "3.9.18"
  }
 },
 "nbformat": 4,
 "nbformat_minor": 5
}
