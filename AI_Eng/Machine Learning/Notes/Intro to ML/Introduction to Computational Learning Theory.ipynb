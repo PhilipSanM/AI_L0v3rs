{
 "cells": [
  {
   "cell_type": "markdown",
   "id": "a9ce3905",
   "metadata": {},
   "source": [
    "# Computational Learning Theory"
   ]
  },
  {
   "cell_type": "markdown",
   "id": "36c69d26",
   "metadata": {},
   "source": [
    "---"
   ]
  },
  {
   "cell_type": "markdown",
   "id": "73deda6c",
   "metadata": {},
   "source": [
    "Computational learning theory, or statistical learning theory, refers to mathematical frameworks for quantifying learning tasks and algorithms."
   ]
  },
  {
   "cell_type": "code",
   "execution_count": null,
   "id": "30b7ea90",
   "metadata": {},
   "outputs": [],
   "source": []
  },
  {
   "cell_type": "markdown",
   "id": "0c47562d",
   "metadata": {},
   "source": [
    "### PAC Learning (Theory of Learning Problems)"
   ]
  },
  {
   "cell_type": "markdown",
   "id": "35132d0e",
   "metadata": {},
   "source": [
    "PAC learning seeks to quantify the difficulty of a learning task and might be considered the premier sub-field of computational learning theory.\n",
    "\n",
    "Consider that in supervised learning, we are trying to approximate an unknown underlying mapping function from inputs to outputs. We don’t know what this mapping function looks like, but we suspect it exists, and we have examples of data produced by the function."
   ]
  },
  {
   "cell_type": "code",
   "execution_count": null,
   "id": "332f678f",
   "metadata": {},
   "outputs": [],
   "source": []
  },
  {
   "cell_type": "markdown",
   "id": "2ea1263c",
   "metadata": {},
   "source": [
    "Source: <a href = https://machinelearningmastery.com/introduction-to-computational-learning-theory/> COLT </a>"
   ]
  },
  {
   "cell_type": "code",
   "execution_count": null,
   "id": "5b2d2b66",
   "metadata": {},
   "outputs": [],
   "source": []
  }
 ],
 "metadata": {
  "kernelspec": {
   "display_name": "Python 3 (ipykernel)",
   "language": "python",
   "name": "python3"
  },
  "language_info": {
   "codemirror_mode": {
    "name": "ipython",
    "version": 3
   },
   "file_extension": ".py",
   "mimetype": "text/x-python",
   "name": "python",
   "nbconvert_exporter": "python",
   "pygments_lexer": "ipython3",
   "version": "3.9.18"
  }
 },
 "nbformat": 4,
 "nbformat_minor": 5
}
