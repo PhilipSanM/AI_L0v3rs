{
 "cells": [
  {
   "cell_type": "markdown",
   "id": "fc5ed9a2",
   "metadata": {},
   "source": [
    "# Withouttitlebro"
   ]
  },
  {
   "cell_type": "markdown",
   "id": "a9db041c",
   "metadata": {},
   "source": [
    "---"
   ]
  },
  {
   "cell_type": "markdown",
   "id": "e9ebb177",
   "metadata": {},
   "source": [
    "The field of statistics deals with the collection, presentation, analysis, and use of data to make decisions, solve problems, and design products and processes.\n",
    "\n",
    "Statistical methods are used to assist in describing and understanding variability.\n",
    "\n",
    "* Successive observations of a system or phenomenon do not produce exactly the same result."
   ]
  },
  {
   "cell_type": "code",
   "execution_count": 86,
   "id": "a096e023",
   "metadata": {},
   "outputs": [],
   "source": [
    "import pandas as pd\n",
    "import numpy as np\n",
    "import math \n",
    "import matplotlib.pyplot as plt"
   ]
  },
  {
   "cell_type": "code",
   "execution_count": 87,
   "id": "5383d786",
   "metadata": {},
   "outputs": [],
   "source": [
    "def getDataInColumns(data):\n",
    "    rows,colums = unknown_data.shape\n",
    "    columns = data.columns\n",
    "    data_in_columns = []\n",
    "    for column in columns:\n",
    "        data_in_columns.append(unknown_data[column])\n",
    "        \n",
    "    return data_in_columns\n",
    "        \n",
    "    "
   ]
  },
  {
   "cell_type": "code",
   "execution_count": 89,
   "id": "7dfca6f1",
   "metadata": {},
   "outputs": [],
   "source": [
    "def getMeans(data):\n",
    "    data_in_columns = getDataInColumns(data)\n",
    "    means = []\n",
    "    for i in range(len(data_in_columns)):\n",
    "        total = sum(data_in_columns[i])\n",
    "        mean = total / len(data_in_columns[i])\n",
    "        means.append(mean)\n",
    "\n",
    "    return means\n",
    "  "
   ]
  },
  {
   "cell_type": "code",
   "execution_count": 90,
   "id": "7f92a3d1",
   "metadata": {},
   "outputs": [],
   "source": [
    "def getMedians(data):\n",
    "    data_in_columns = getDataInColumns(data)\n",
    "    medians = []\n",
    "    for i in range(len(data_in_columns)):\n",
    "        if len(data_in_columns[i]) % 2 == 0:\n",
    "            middle = math.ceil(len(data_in_columns[i]) / 2)\n",
    "            median = (data_in_columns[i][middle] +data_in_columns[i][middle]) / 2\n",
    "        else:\n",
    "            middle = math.ceil(len(data_in_columns[i]) / 2)\n",
    "            median = data_in_columns[i][middle]\n",
    "            medians.append(median)\n",
    "    return medians"
   ]
  },
  {
   "cell_type": "code",
   "execution_count": 100,
   "id": "32842377",
   "metadata": {},
   "outputs": [],
   "source": [
    "def getVariances(data):\n",
    "    data_in_columns = getDataInColumns(data)\n",
    "    \n",
    "    variances = []\n",
    "    means = getMeans(data)\n",
    "  \n",
    "    for i in range(len(data_in_columns)):\n",
    "        numerator = 0\n",
    "        for j in range(len(data_in_columns[i])):\n",
    "            numerator += pow((data_in_columns[i][j] - means[i]),2)\n",
    "            \n",
    "        variance = numerator / len(data_in_columns[i]) - 1\n",
    "        variances.append(variance)\n",
    "    return variances"
   ]
  },
  {
   "cell_type": "code",
   "execution_count": 103,
   "id": "f5e5f9d7",
   "metadata": {},
   "outputs": [],
   "source": [
    "def getQuartiles(data):\n",
    "    all_quartiles = []\n",
    "    data_in_columns = getDataInColumns(data)\n",
    "    for i in range(len(data_in_columns)):\n",
    "        quartiles = []\n",
    "        for numerator in [1,2,3]:\n",
    "            quartile = numerator*(len(data_in_columns[i]) + 1)/4\n",
    "            quartiles.append(quartile)\n",
    "        all_quartiles.append(quartiles)\n",
    "    \n",
    "    return all_quartiles"
   ]
  },
  {
   "cell_type": "code",
   "execution_count": 106,
   "id": "952e58fe",
   "metadata": {},
   "outputs": [],
   "source": [
    "def find_basic_quantities(data):\n",
    "    means = getMeans(data)\n",
    "    medians = getMedians(data)    \n",
    "    variances = getVariances(data)\n",
    "    quartiles = getQuartiles(data)\n",
    "    \n",
    "    for i in range(len(means)):\n",
    "        print(\"--------------------------------------------------------------------------------\")\n",
    "        print(\"El numero total de datos en la columna \", i, \" es: \", len(data_in_columns[i]))\n",
    "        print(\" El valor de la media de la columna \", i , ' es: ', means[i] )\n",
    "        print(\" El valor de la mediana de la columna \", i , ' es: ', medians[i])\n",
    "        print(\" El valor de la varianza de la columna \", i , ' es: ', variances[i])\n",
    "        for j in [0 , 1, 2]:\n",
    "            print(\" El quartil \", j + 1 , ' es: ', quartiles[i][j])\n",
    "        print(\"--------------------------------------------------------------------------------\")\n",
    "    "
   ]
  },
  {
   "cell_type": "code",
   "execution_count": 107,
   "id": "62637a2b",
   "metadata": {},
   "outputs": [
    {
     "name": "stdout",
     "output_type": "stream",
     "text": [
      "--------------------------------------------------------------------------------\n",
      "El numero total de datos en la columna  0  es:  79\n",
      " El valor de la media de la columna  0  es:  163.39240506329114\n",
      " El valor de la mediana de la columna  0  es:  120\n",
      " El valor de la varianza de la columna  0  es:  1097.0105752283287\n",
      " El quartil  1  es:  20.0\n",
      " El quartil  2  es:  40.0\n",
      " El quartil  3  es:  60.0\n",
      "--------------------------------------------------------------------------------\n"
     ]
    }
   ],
   "source": [
    "unknown_data = pd.read_csv(\"data.txt\")\n",
    "\n",
    "find_basic_quantities(unknown_data)"
   ]
  },
  {
   "cell_type": "code",
   "execution_count": 110,
   "id": "39af3500",
   "metadata": {},
   "outputs": [
    {
     "data": {
      "text/html": [
       "<div>\n",
       "<style scoped>\n",
       "    .dataframe tbody tr th:only-of-type {\n",
       "        vertical-align: middle;\n",
       "    }\n",
       "\n",
       "    .dataframe tbody tr th {\n",
       "        vertical-align: top;\n",
       "    }\n",
       "\n",
       "    .dataframe thead th {\n",
       "        text-align: right;\n",
       "    }\n",
       "</style>\n",
       "<table border=\"1\" class=\"dataframe\">\n",
       "  <thead>\n",
       "    <tr style=\"text-align: right;\">\n",
       "      <th></th>\n",
       "      <th>105</th>\n",
       "    </tr>\n",
       "  </thead>\n",
       "  <tbody>\n",
       "    <tr>\n",
       "      <th>0</th>\n",
       "      <td>97</td>\n",
       "    </tr>\n",
       "    <tr>\n",
       "      <th>1</th>\n",
       "      <td>245</td>\n",
       "    </tr>\n",
       "    <tr>\n",
       "      <th>2</th>\n",
       "      <td>163</td>\n",
       "    </tr>\n",
       "    <tr>\n",
       "      <th>3</th>\n",
       "      <td>207</td>\n",
       "    </tr>\n",
       "    <tr>\n",
       "      <th>4</th>\n",
       "      <td>134</td>\n",
       "    </tr>\n",
       "    <tr>\n",
       "      <th>...</th>\n",
       "      <td>...</td>\n",
       "    </tr>\n",
       "    <tr>\n",
       "      <th>74</th>\n",
       "      <td>146</td>\n",
       "    </tr>\n",
       "    <tr>\n",
       "      <th>75</th>\n",
       "      <td>169</td>\n",
       "    </tr>\n",
       "    <tr>\n",
       "      <th>76</th>\n",
       "      <td>158</td>\n",
       "    </tr>\n",
       "    <tr>\n",
       "      <th>77</th>\n",
       "      <td>135</td>\n",
       "    </tr>\n",
       "    <tr>\n",
       "      <th>78</th>\n",
       "      <td>149</td>\n",
       "    </tr>\n",
       "  </tbody>\n",
       "</table>\n",
       "<p>79 rows × 1 columns</p>\n",
       "</div>"
      ],
      "text/plain": [
       "    105\n",
       "0    97\n",
       "1   245\n",
       "2   163\n",
       "3   207\n",
       "4   134\n",
       "..  ...\n",
       "74  146\n",
       "75  169\n",
       "76  158\n",
       "77  135\n",
       "78  149\n",
       "\n",
       "[79 rows x 1 columns]"
      ]
     },
     "execution_count": 110,
     "metadata": {},
     "output_type": "execute_result"
    }
   ],
   "source": [
    "\n"
   ]
  },
  {
   "cell_type": "code",
   "execution_count": null,
   "id": "d1caafe5",
   "metadata": {},
   "outputs": [],
   "source": []
  }
 ],
 "metadata": {
  "kernelspec": {
   "display_name": "Python 3 (ipykernel)",
   "language": "python",
   "name": "python3"
  },
  "language_info": {
   "codemirror_mode": {
    "name": "ipython",
    "version": 3
   },
   "file_extension": ".py",
   "mimetype": "text/x-python",
   "name": "python",
   "nbconvert_exporter": "python",
   "pygments_lexer": "ipython3",
   "version": "3.9.13"
  }
 },
 "nbformat": 4,
 "nbformat_minor": 5
}
