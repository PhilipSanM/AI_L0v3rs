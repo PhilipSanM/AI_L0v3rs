{
 "cells": [
  {
   "cell_type": "markdown",
   "id": "74c82284",
   "metadata": {},
   "source": [
    "### Salary\n",
    "---"
   ]
  },
  {
   "cell_type": "code",
   "execution_count": 1,
   "id": "de5ff90a",
   "metadata": {},
   "outputs": [],
   "source": [
    "import numpy as np\n",
    "import matplotlib.pyplot as plot\n",
    "import pandas as pd\n",
    "from sklearn.neighbors import KNeighborsClassifier"
   ]
  },
  {
   "cell_type": "code",
   "execution_count": 2,
   "id": "a42ee3a4",
   "metadata": {},
   "outputs": [],
   "source": [
    "#Data from csv\n",
    "df = pd.read_csv('datos-salarios.csv')\n"
   ]
  },
  {
   "cell_type": "code",
   "execution_count": 3,
   "id": "5e9d286d",
   "metadata": {},
   "outputs": [],
   "source": [
    "#Especifica los datos y sus etiquetas\n",
    "X = df[['Salario', 'Experiencia']]\n",
    "y = df['Categoria']"
   ]
  },
  {
   "cell_type": "code",
   "execution_count": 4,
   "id": "5b2fbb85",
   "metadata": {},
   "outputs": [
    {
     "data": {
      "image/png": "[encoded data removed]",
      "text/plain": [
       "<Figure size 640x480 with 1 Axes>"
      ]
     },
     "metadata": {},
     "output_type": "display_data"
    }
   ],
   "source": [
    "#Para visualizar gráfica de dispersión\n",
    "ax = plot.axes()"
   ]
  },
  {
   "cell_type": "code",
   "execution_count": 5,
   "id": "3faf8f86",
   "metadata": {},
   "outputs": [
    {
     "data": {
      "text/plain": [
       "<matplotlib.collections.PathCollection at 0x1e24589e0a0>"
      ]
     },
     "execution_count": 5,
     "metadata": {},
     "output_type": "execute_result"
    }
   ],
   "source": [
    "ax.scatter(df.loc[df['Categoria'] == 'junior', 'Salario'],\n",
    "           df.loc[df['Categoria'] == 'junior', 'Experiencia'],\n",
    "           c=\"red\",\n",
    "           label=\"junior\")\n",
    "ax.scatter(df.loc[df['Categoria'] == 'semi senior', 'Salario'],\n",
    "           df.loc[df['Categoria'] == 'semi senior', 'Experiencia'],\n",
    "           c=\"orange\",\n",
    "           label=\"semi senior\")\n",
    "ax.scatter(df.loc[df['Categoria'] == 'senior', 'Salario'],\n",
    "           df.loc[df['Categoria'] == 'senior', 'Experiencia'],\n",
    "           c=\"green\",\n",
    "           label=\"senior\")"
   ]
  },
  {
   "cell_type": "code",
   "execution_count": 6,
   "id": "97a880a4",
   "metadata": {},
   "outputs": [
    {
     "data": {
      "text/plain": [
       "Text(0, 0.5, 'Experiencie')"
      ]
     },
     "execution_count": 6,
     "metadata": {},
     "output_type": "execute_result"
    },
    {
     "data": {
      "image/png": "[encoded data removed]",
      "text/plain": [
       "<Figure size 640x480 with 1 Axes>"
      ]
     },
     "metadata": {},
     "output_type": "display_data"
    }
   ],
   "source": [
    "plot.xlabel(\"Salary USD x Month\")\n",
    "plot.ylabel(\"Experiencie\")"
   ]
  },
  {
   "cell_type": "code",
   "execution_count": 7,
   "id": "fd379754",
   "metadata": {},
   "outputs": [
    {
     "data": {
      "text/plain": [
       "<matplotlib.legend.Legend at 0x1e245692f40>"
      ]
     },
     "execution_count": 7,
     "metadata": {},
     "output_type": "execute_result"
    }
   ],
   "source": [
    "ax.legend()"
   ]
  },
  {
   "cell_type": "code",
   "execution_count": 8,
   "id": "248d5808",
   "metadata": {},
   "outputs": [],
   "source": [
    "#Calcular k\n",
    "k = int(np.sqrt( X.shape[0]));"
   ]
  },
  {
   "cell_type": "code",
   "execution_count": 9,
   "id": "8560b180",
   "metadata": {},
   "outputs": [],
   "source": [
    "if k%2==0: #Hacer que K sea impar para evitar empates\n",
    "   k=k+1\n",
    "   "
   ]
  },
  {
   "cell_type": "code",
   "execution_count": 10,
   "id": "43eb7df0",
   "metadata": {},
   "outputs": [],
   "source": [
    "knn = KNeighborsClassifier(n_neighbors=k)"
   ]
  },
  {
   "cell_type": "code",
   "execution_count": 11,
   "id": "5e703441",
   "metadata": {},
   "outputs": [
    {
     "data": {
      "text/plain": [
       "KNeighborsClassifier(n_neighbors=7)"
      ]
     },
     "execution_count": 11,
     "metadata": {},
     "output_type": "execute_result"
    }
   ],
   "source": [
    "knn.fit(X, y)"
   ]
  },
  {
   "cell_type": "code",
   "execution_count": 12,
   "id": "bd446749",
   "metadata": {},
   "outputs": [
    {
     "name": "stdout",
     "output_type": "stream",
     "text": [
      "\n",
      "Probar algoritmo con k=7\n"
     ]
    }
   ],
   "source": [
    "#Probar\n",
    "print(f'\\nProbar algoritmo con {k=}')\n",
    "# salario = float(input(\"Indique el salario mensual en miles de UD$: \"))\n",
    "# experiencia =  float(input(\"Indique la experiencia en años: \"))\n",
    "salario = 16000.00\n",
    "experiencia = 0"
   ]
  },
  {
   "cell_type": "code",
   "execution_count": 13,
   "id": "6d09c506",
   "metadata": {},
   "outputs": [],
   "source": [
    "dfp = pd.DataFrame()\n",
    "dfp ['Salario'] = [salario]\n",
    "dfp ['Experiencia'] = [experiencia]"
   ]
  },
  {
   "cell_type": "code",
   "execution_count": 14,
   "id": "aa142a2e",
   "metadata": {},
   "outputs": [
    {
     "data": {
      "text/plain": [
       "<matplotlib.collections.PathCollection at 0x1e24573bac0>"
      ]
     },
     "execution_count": 14,
     "metadata": {},
     "output_type": "execute_result"
    }
   ],
   "source": [
    "ax.scatter(dfp['Salario'],\n",
    "           dfp['Experiencia'],\n",
    "           c=\"black\")\n"
   ]
  },
  {
   "cell_type": "code",
   "execution_count": 15,
   "id": "95cfa99d",
   "metadata": {},
   "outputs": [
    {
     "name": "stderr",
     "output_type": "stream",
     "text": [
      "C:\\Users\\MrJel\\anaconda3\\lib\\site-packages\\sklearn\\neighbors\\_classification.py:228: FutureWarning: Unlike other reduction functions (e.g. `skew`, `kurtosis`), the default behavior of `mode` typically preserves the axis it acts along. In SciPy 1.11.0, this behavior will change: the default value of `keepdims` will become False, the `axis` over which the statistic is taken will be eliminated, and the value None will no longer be accepted. Set `keepdims` to True or False to avoid this warning.\n",
      "  mode, _ = stats.mode(_y[neigh_ind, k], axis=1)\n"
     ]
    }
   ],
   "source": [
    "prediccion = knn.predict(dfp)"
   ]
  },
  {
   "cell_type": "code",
   "execution_count": 16,
   "id": "81c97bbb",
   "metadata": {},
   "outputs": [],
   "source": [
    "#Muestra gráfica de dispersión\n",
    "plot.show()"
   ]
  },
  {
   "cell_type": "code",
   "execution_count": 17,
   "id": "cf1a2849",
   "metadata": {},
   "outputs": [
    {
     "name": "stdout",
     "output_type": "stream",
     "text": [
      "\n",
      "Con los datos\n",
      "   Salario  Experiencia\n",
      "0  16000.0            0\n",
      "La categoría predicha es:\n",
      "['senior']\n"
     ]
    }
   ],
   "source": [
    "print('\\nCon los datos')\n",
    "print(dfp)\n",
    "print('La categoría predicha es:')\n",
    "print(prediccion)"
   ]
  },
  {
   "cell_type": "code",
   "execution_count": 18,
   "id": "ee7751d0",
   "metadata": {},
   "outputs": [
    {
     "data": {
      "image/png": "[encoded data removed]",
      "text/plain": [
       "<Figure size 640x480 with 1 Axes>"
      ]
     },
     "metadata": {},
     "output_type": "display_data"
    }
   ],
   "source": [
    "#Para visualizar gráfica de dispersión\n",
    "ax = plot.axes()\n"
   ]
  },
  {
   "cell_type": "code",
   "execution_count": null,
   "id": "496eb1ab",
   "metadata": {},
   "outputs": [],
   "source": []
  }
 ],
 "metadata": {
  "kernelspec": {
   "display_name": "Python 3 (ipykernel)",
   "language": "python",
   "name": "python3"
  },
  "language_info": {
   "codemirror_mode": {
    "name": "ipython",
    "version": 3
   },
   "file_extension": ".py",
   "mimetype": "text/x-python",
   "name": "python",
   "nbconvert_exporter": "python",
   "pygments_lexer": "ipython3",
   "version": "3.9.13"
  }
 },
 "nbformat": 4,
 "nbformat_minor": 5
}
