{
 "cells": [
  {
   "cell_type": "markdown",
   "id": "74c82284",
   "metadata": {},
   "source": [
    "# \n",
    "---"
   ]
  },
  {
   "cell_type": "code",
   "execution_count": 2,
   "id": "de5ff90a",
   "metadata": {},
   "outputs": [],
   "source": [
    "import numpy as np\n",
    "import matplotlib.pyplot as plot\n",
    "import pandas as pd\n",
    "from sklearn.neighbors import KNeighborsClassifier"
   ]
  },
  {
   "cell_type": "code",
   "execution_count": 3,
   "id": "a42ee3a4",
   "metadata": {},
   "outputs": [],
   "source": [
    "#Data from csv\n",
    "df = pd.read_csv('datos-salarios.csv')\n"
   ]
  },
  {
   "cell_type": "code",
   "execution_count": 4,
   "id": "5e9d286d",
   "metadata": {},
   "outputs": [],
   "source": [
    "#Especifica los datos y sus etiquetas\n",
    "X = df[['Salario', 'Experiencia']]\n",
    "y = df['Categoria']"
   ]
  },
  {
   "cell_type": "code",
   "execution_count": 5,
   "id": "5b2fbb85",
   "metadata": {},
   "outputs": [
    {
     "data": {
      "text/plain": [
       "<matplotlib.legend.Legend at 0x158bc62f250>"
      ]
     },
     "execution_count": 5,
     "metadata": {},
     "output_type": "execute_result"
    },
    {
     "data": {
      "image/png": "[encoded data removed]",
      "text/plain": [
       "<Figure size 640x480 with 1 Axes>"
      ]
     },
     "metadata": {},
     "output_type": "display_data"
    }
   ],
   "source": [
    "#Para visualizar gráfica de dispersión\n",
    "ax = plot.axes()\n",
    "ax.scatter(df.loc[df['Categoria'] == 'junior', 'Salario'],\n",
    "           df.loc[df['Categoria'] == 'junior', 'Experiencia'],\n",
    "           c=\"red\",\n",
    "           label=\"junior\")\n",
    "ax.scatter(df.loc[df['Categoria'] == 'semi senior', 'Salario'],\n",
    "           df.loc[df['Categoria'] == 'semi senior', 'Experiencia'],\n",
    "           c=\"orange\",\n",
    "           label=\"semi senior\")\n",
    "ax.scatter(df.loc[df['Categoria'] == 'senior', 'Salario'],\n",
    "           df.loc[df['Categoria'] == 'senior', 'Experiencia'],\n",
    "           c=\"green\",\n",
    "           label=\"senior\")\n",
    "\n",
    "plot.xlabel(\"Salary USD x Month\")\n",
    "plot.ylabel(\"Experiencie\")\n",
    "ax.legend()"
   ]
  },
  {
   "cell_type": "code",
   "execution_count": 6,
   "id": "8560b180",
   "metadata": {},
   "outputs": [
    {
     "data": {
      "text/plain": [
       "KNeighborsClassifier(n_neighbors=7)"
      ]
     },
     "execution_count": 6,
     "metadata": {},
     "output_type": "execute_result"
    }
   ],
   "source": [
    "#Calcular k\n",
    "k = int(np.sqrt( X.shape[0]));\n",
    "\n",
    "if k%2==0: #Hacer que K sea impar para evitar empates\n",
    "   k=k+1\n",
    "\n",
    "\n",
    "knn = KNeighborsClassifier(n_neighbors=k)\n",
    "\n",
    "knn.fit(X, y)"
   ]
  },
  {
   "cell_type": "code",
   "execution_count": 8,
   "id": "bd446749",
   "metadata": {},
   "outputs": [
    {
     "name": "stdout",
     "output_type": "stream",
     "text": [
      "\n",
      "Probar algoritmo con k=7\n",
      "\n",
      "Con los datos\n",
      "   Salario  Experiencia\n",
      "0  16000.0            0\n",
      "La categoría predicha es:\n",
      "['senior']\n"
     ]
    },
    {
     "name": "stderr",
     "output_type": "stream",
     "text": [
      "C:\\Users\\MrJel\\anaconda3\\lib\\site-packages\\sklearn\\neighbors\\_classification.py:228: FutureWarning: Unlike other reduction functions (e.g. `skew`, `kurtosis`), the default behavior of `mode` typically preserves the axis it acts along. In SciPy 1.11.0, this behavior will change: the default value of `keepdims` will become False, the `axis` over which the statistic is taken will be eliminated, and the value None will no longer be accepted. Set `keepdims` to True or False to avoid this warning.\n",
      "  mode, _ = stats.mode(_y[neigh_ind, k], axis=1)\n"
     ]
    }
   ],
   "source": [
    "#Probar\n",
    "print(f'\\nProbar algoritmo con {k=}')\n",
    "# salario = float(input(\"Indique el salario mensual en miles de UD$: \"))\n",
    "# experiencia =  float(input(\"Indique la experiencia en años: \"))\n",
    "salario = 16000.00\n",
    "experiencia = 0\n",
    "\n",
    "dfp = pd.DataFrame()\n",
    "dfp ['Salario'] = [salario]\n",
    "dfp ['Experiencia'] = [experiencia]\n",
    "\n",
    "ax.scatter(dfp['Salario'],\n",
    "           dfp['Experiencia'],\n",
    "           c=\"black\")\n",
    "\n",
    "prediccion = knn.predict(dfp)\n",
    "\n",
    "#Muestra gráfica de dispersión\n",
    "plot.show()\n",
    "\n",
    "print('\\nCon los datos')\n",
    "print(dfp)\n",
    "print('La categoría predicha es:')\n",
    "print(prediccion)"
   ]
  }
 ],
 "metadata": {
  "kernelspec": {
   "display_name": "Python 3 (ipykernel)",
   "language": "python",
   "name": "python3"
  },
  "language_info": {
   "codemirror_mode": {
    "name": "ipython",
    "version": 3
   },
   "file_extension": ".py",
   "mimetype": "text/x-python",
   "name": "python",
   "nbconvert_exporter": "python",
   "pygments_lexer": "ipython3",
   "version": "3.9.13"
  }
 },
 "nbformat": 4,
 "nbformat_minor": 5
}
