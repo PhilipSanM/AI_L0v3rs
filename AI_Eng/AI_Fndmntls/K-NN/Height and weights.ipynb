{
 "cells": [
  {
   "cell_type": "markdown",
   "id": "84a85999",
   "metadata": {},
   "source": [
    "# K-nearist neighbors for Heightsand weights"
   ]
  },
  {
   "cell_type": "markdown",
   "id": "df1c4b35",
   "metadata": {},
   "source": [
    "---\n"
   ]
  },
  {
   "cell_type": "code",
   "execution_count": 1,
   "id": "aecb565c",
   "metadata": {},
   "outputs": [],
   "source": [
    "# Libraries from env\n",
    "import numpy as np\n",
    "import matplotlib.pyplot as plot\n",
    "import pandas as pd\n",
    "from sklearn.neighbors import KNeighborsClassifier\n"
   ]
  },
  {
   "cell_type": "code",
   "execution_count": 4,
   "id": "927e47ee",
   "metadata": {},
   "outputs": [],
   "source": [
    "# Reading data and transforming it into a data frame\n",
    "height_and_weight_data = pd.read_csv(\"Height-and-Weight-Data.csv\")"
   ]
  },
  {
   "cell_type": "code",
   "execution_count": null,
   "id": "03d46ccf",
   "metadata": {},
   "outputs": [],
   "source": [
    "he"
   ]
  }
 ],
 "metadata": {
  "kernelspec": {
   "display_name": "Python 3 (ipykernel)",
   "language": "python",
   "name": "python3"
  },
  "language_info": {
   "codemirror_mode": {
    "name": "ipython",
    "version": 3
   },
   "file_extension": ".py",
   "mimetype": "text/x-python",
   "name": "python",
   "nbconvert_exporter": "python",
   "pygments_lexer": "ipython3",
   "version": "3.9.13"
  }
 },
 "nbformat": 4,
 "nbformat_minor": 5
}
