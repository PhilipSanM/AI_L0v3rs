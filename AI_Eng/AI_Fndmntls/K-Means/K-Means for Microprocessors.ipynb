{
 "cells": [
  {
   "cell_type": "markdown",
   "id": "36d8e9d7",
   "metadata": {},
   "source": [
    "# K-Means for microprocessor"
   ]
  },
  {
   "cell_type": "markdown",
   "id": "b8b9a13f",
   "metadata": {},
   "source": [
    "---"
   ]
  },
  {
   "cell_type": "code",
   "execution_count": 1,
   "id": "e3b37820",
   "metadata": {},
   "outputs": [],
   "source": [
    "# For avoiding memory leak when working with K-means\n",
    "import os\n",
    "os.environ[\"OMP_NUM_THREADS\"] = '1'"
   ]
  },
  {
   "cell_type": "code",
   "execution_count": 2,
   "id": "a63ddf88",
   "metadata": {},
   "outputs": [],
   "source": [
    "import pandas as pd\n",
    "import matplotlib.pyplot as plot\n",
    "import sklearn.cluster as skl"
   ]
  },
  {
   "cell_type": "code",
   "execution_count": 3,
   "id": "ab44cc86",
   "metadata": {},
   "outputs": [
    {
     "data": {
      "text/html": [
       "<div>\n",
       "<style scoped>\n",
       "    .dataframe tbody tr th:only-of-type {\n",
       "        vertical-align: middle;\n",
       "    }\n",
       "\n",
       "    .dataframe tbody tr th {\n",
       "        vertical-align: top;\n",
       "    }\n",
       "\n",
       "    .dataframe thead th {\n",
       "        text-align: right;\n",
       "    }\n",
       "</style>\n",
       "<table border=\"1\" class=\"dataframe\">\n",
       "  <thead>\n",
       "    <tr style=\"text-align: right;\">\n",
       "      <th></th>\n",
       "      <th>Nombre</th>\n",
       "      <th>Frecuencia (GHz)</th>\n",
       "      <th>Precio ($)</th>\n",
       "    </tr>\n",
       "  </thead>\n",
       "  <tbody>\n",
       "    <tr>\n",
       "      <th>0</th>\n",
       "      <td>Intel Core i9-11900K</td>\n",
       "      <td>5.3</td>\n",
       "      <td>550</td>\n",
       "    </tr>\n",
       "    <tr>\n",
       "      <th>1</th>\n",
       "      <td>AMD Ryzen 9 5950X</td>\n",
       "      <td>4.9</td>\n",
       "      <td>800</td>\n",
       "    </tr>\n",
       "    <tr>\n",
       "      <th>2</th>\n",
       "      <td>Intel Core i7-11700K</td>\n",
       "      <td>5.0</td>\n",
       "      <td>400</td>\n",
       "    </tr>\n",
       "    <tr>\n",
       "      <th>3</th>\n",
       "      <td>AMD Ryzen 7 5800X</td>\n",
       "      <td>4.7</td>\n",
       "      <td>450</td>\n",
       "    </tr>\n",
       "    <tr>\n",
       "      <th>4</th>\n",
       "      <td>Intel Core i5-11600K</td>\n",
       "      <td>4.9</td>\n",
       "      <td>270</td>\n",
       "    </tr>\n",
       "  </tbody>\n",
       "</table>\n",
       "</div>"
      ],
      "text/plain": [
       "                 Nombre   Frecuencia (GHz)   Precio ($)\n",
       "0  Intel Core i9-11900K                5.3          550\n",
       "1     AMD Ryzen 9 5950X                4.9          800\n",
       "2  Intel Core i7-11700K                5.0          400\n",
       "3     AMD Ryzen 7 5800X                4.7          450\n",
       "4  Intel Core i5-11600K                4.9          270"
      ]
     },
     "execution_count": 3,
     "metadata": {},
     "output_type": "execute_result"
    }
   ],
   "source": [
    "microprocessors_data = pd.read_csv(\"microprocessor.csv\")\n",
    "microprocessors_data.head()"
   ]
  },
  {
   "cell_type": "code",
   "execution_count": 4,
   "id": "8d8eb731",
   "metadata": {},
   "outputs": [
    {
     "data": {
      "text/plain": [
       "Index(['Nombre', ' Frecuencia (GHz)', ' Precio ($)'], dtype='object')"
      ]
     },
     "execution_count": 4,
     "metadata": {},
     "output_type": "execute_result"
    }
   ],
   "source": [
    "# Let's define our K with elbow technic\n",
    "# So we just need GHz and Price\n",
    "\n",
    "microprocessors_data.columns"
   ]
  },
  {
   "cell_type": "code",
   "execution_count": 5,
   "id": "18d0d116",
   "metadata": {},
   "outputs": [
    {
     "data": {
      "text/html": [
       "<div>\n",
       "<style scoped>\n",
       "    .dataframe tbody tr th:only-of-type {\n",
       "        vertical-align: middle;\n",
       "    }\n",
       "\n",
       "    .dataframe tbody tr th {\n",
       "        vertical-align: top;\n",
       "    }\n",
       "\n",
       "    .dataframe thead th {\n",
       "        text-align: right;\n",
       "    }\n",
       "</style>\n",
       "<table border=\"1\" class=\"dataframe\">\n",
       "  <thead>\n",
       "    <tr style=\"text-align: right;\">\n",
       "      <th></th>\n",
       "      <th>Frecuencia (GHz)</th>\n",
       "      <th>Precio ($)</th>\n",
       "    </tr>\n",
       "  </thead>\n",
       "  <tbody>\n",
       "    <tr>\n",
       "      <th>0</th>\n",
       "      <td>5.3</td>\n",
       "      <td>550</td>\n",
       "    </tr>\n",
       "    <tr>\n",
       "      <th>1</th>\n",
       "      <td>4.9</td>\n",
       "      <td>800</td>\n",
       "    </tr>\n",
       "    <tr>\n",
       "      <th>2</th>\n",
       "      <td>5.0</td>\n",
       "      <td>400</td>\n",
       "    </tr>\n",
       "    <tr>\n",
       "      <th>3</th>\n",
       "      <td>4.7</td>\n",
       "      <td>450</td>\n",
       "    </tr>\n",
       "    <tr>\n",
       "      <th>4</th>\n",
       "      <td>4.9</td>\n",
       "      <td>270</td>\n",
       "    </tr>\n",
       "  </tbody>\n",
       "</table>\n",
       "</div>"
      ],
      "text/plain": [
       "    Frecuencia (GHz)   Precio ($)\n",
       "0                5.3          550\n",
       "1                4.9          800\n",
       "2                5.0          400\n",
       "3                4.7          450\n",
       "4                4.9          270"
      ]
     },
     "execution_count": 5,
     "metadata": {},
     "output_type": "execute_result"
    }
   ],
   "source": [
    "ghz_price_microproccesors = microprocessors_data[[' Frecuencia (GHz)',' Precio ($)']]\n",
    "ghz_price_microproccesors.head()"
   ]
  },
  {
   "cell_type": "code",
   "execution_count": 6,
   "id": "ae39310f",
   "metadata": {},
   "outputs": [
    {
     "data": {
      "text/plain": [
       "[2269205.729791667,\n",
       " 626535.3669444444,\n",
       " 290272.9855050505,\n",
       " 179887.29848357523,\n",
       " 89044.28926388892,\n",
       " 52259.43408333333,\n",
       " 34777.686570707076,\n",
       " 24360.913237373738,\n",
       " 18517.500416666666]"
      ]
     },
     "execution_count": 6,
     "metadata": {},
     "output_type": "execute_result"
    }
   ],
   "source": [
    "# Find elbow\n",
    "inertias = []\n",
    "for k in range(1,10):\n",
    "    kmeansModel = skl.KMeans(n_clusters=k)\n",
    "    # Training with k clusters and data of frecuqncy and price\n",
    "    kmeansModel.fit(ghz_price_microproccesors)\n",
    "    inertias.append(kmeansModel.inertia_)\n",
    "inertias\n"
   ]
  },
  {
   "cell_type": "code",
   "execution_count": 7,
   "id": "5a3cc75f",
   "metadata": {},
   "outputs": [
    {
     "data": {
      "image/png": "[encoded data removed]",
      "text/plain": [
       "<Figure size 1600x800 with 1 Axes>"
      ]
     },
     "metadata": {},
     "output_type": "display_data"
    }
   ],
   "source": [
    "# Plot\n",
    "#Grafica de codo\n",
    "plot.figure(figsize=(16,8))\n",
    "K = range(1,10)\n",
    "plot.plot(K, inertias, 'bx-')\n",
    "plot.xlabel('k')\n",
    "plot.ylabel('Inertias')\n",
    "plot.title('Elbow method to know the optimum value of K')\n",
    "plot.show()"
   ]
  },
  {
   "cell_type": "code",
   "execution_count": 8,
   "id": "a05b3961",
   "metadata": {},
   "outputs": [],
   "source": [
    "# So the best value for K is 2, beacuase there is a big change in 2\n",
    "k = 2"
   ]
  },
  {
   "cell_type": "code",
   "execution_count": 9,
   "id": "f5547a66",
   "metadata": {},
   "outputs": [
    {
     "data": {
      "text/plain": [
       "KMeans(n_clusters=2)"
      ]
     },
     "execution_count": 9,
     "metadata": {},
     "output_type": "execute_result"
    }
   ],
   "source": [
    "# Lets start the K-means\n",
    "kmeansModel = skl.KMeans(n_clusters=k)\n",
    "# With our data\n",
    "kmeansModel.fit(ghz_price_microproccesors)\n"
   ]
  },
  {
   "cell_type": "code",
   "execution_count": 10,
   "id": "4ca8c445",
   "metadata": {},
   "outputs": [
    {
     "data": {
      "text/plain": [
       "array([[  4.28888889, 297.77777778],\n",
       "       [  4.60833333, 725.        ]])"
      ]
     },
     "execution_count": 10,
     "metadata": {},
     "output_type": "execute_result"
    }
   ],
   "source": [
    "# Lets find the centroids\n",
    "centroids = kmeansModel.cluster_centers_\n",
    "centroids"
   ]
  },
  {
   "cell_type": "code",
   "execution_count": 11,
   "id": "06d6ff75",
   "metadata": {},
   "outputs": [],
   "source": [
    "# Obtaining the labels\n",
    "labels = kmeansModel.predict(ghz_price_microproccesors)\n",
    "# Also adding that new column to our data\n",
    "ghz_price_microproccesors['label'] = labels\n"
   ]
  },
  {
   "cell_type": "code",
   "execution_count": 21,
   "id": "827a4581",
   "metadata": {},
   "outputs": [
    {
     "data": {
      "text/html": [
       "<div>\n",
       "<style scoped>\n",
       "    .dataframe tbody tr th:only-of-type {\n",
       "        vertical-align: middle;\n",
       "    }\n",
       "\n",
       "    .dataframe tbody tr th {\n",
       "        vertical-align: top;\n",
       "    }\n",
       "\n",
       "    .dataframe thead th {\n",
       "        text-align: right;\n",
       "    }\n",
       "</style>\n",
       "<table border=\"1\" class=\"dataframe\">\n",
       "  <thead>\n",
       "    <tr style=\"text-align: right;\">\n",
       "      <th></th>\n",
       "      <th>Frecuencia (GHz)</th>\n",
       "      <th>Precio ($)</th>\n",
       "      <th>label</th>\n",
       "    </tr>\n",
       "  </thead>\n",
       "  <tbody>\n",
       "    <tr>\n",
       "      <th>0</th>\n",
       "      <td>5.3</td>\n",
       "      <td>550</td>\n",
       "      <td>1</td>\n",
       "    </tr>\n",
       "    <tr>\n",
       "      <th>1</th>\n",
       "      <td>4.9</td>\n",
       "      <td>800</td>\n",
       "      <td>1</td>\n",
       "    </tr>\n",
       "    <tr>\n",
       "      <th>2</th>\n",
       "      <td>5.0</td>\n",
       "      <td>400</td>\n",
       "      <td>0</td>\n",
       "    </tr>\n",
       "    <tr>\n",
       "      <th>3</th>\n",
       "      <td>4.7</td>\n",
       "      <td>450</td>\n",
       "      <td>0</td>\n",
       "    </tr>\n",
       "    <tr>\n",
       "      <th>4</th>\n",
       "      <td>4.9</td>\n",
       "      <td>270</td>\n",
       "      <td>0</td>\n",
       "    </tr>\n",
       "  </tbody>\n",
       "</table>\n",
       "</div>"
      ],
      "text/plain": [
       "    Frecuencia (GHz)   Precio ($)  label\n",
       "0                5.3          550      1\n",
       "1                4.9          800      1\n",
       "2                5.0          400      0\n",
       "3                4.7          450      0\n",
       "4                4.9          270      0"
      ]
     },
     "execution_count": 21,
     "metadata": {},
     "output_type": "execute_result"
    }
   ],
   "source": [
    "ghz_price_microproccesors.head()"
   ]
  },
  {
   "cell_type": "code",
   "execution_count": 22,
   "id": "36cb60f3",
   "metadata": {},
   "outputs": [],
   "source": [
    "# Lets plot our data\n",
    "colors = ['red','blue','green','pink','orange']\n",
    "centroids_colors = []\n",
    "data_colors = []\n",
    "\n",
    "for label in labels:\n",
    "    data_colors.append(colors[label]) # red or blue\n",
    "    \n",
    "for  i in range(len(centroids)):\n",
    "    centroids_colors.append(colors[i]) # red or blue"
   ]
  },
  {
   "cell_type": "code",
   "execution_count": 23,
   "id": "e61447e1",
   "metadata": {},
   "outputs": [
    {
     "data": {
      "image/png": "[encoded data removed]",
      "text/plain": [
       "<Figure size 640x480 with 1 Axes>"
      ]
     },
     "metadata": {},
     "output_type": "display_data"
    }
   ],
   "source": [
    "# plot\n",
    "ax = plot.axes()\n",
    "ax.scatter(microprocessors_data[' Frecuencia (GHz)'], microprocessors_data[' Precio ($)'], c=data_colors, marker='o', s=40)\n",
    "ax.scatter(centroids[:,0], centroids[:,1], c=centroids_colors, marker='+', s=200)\n",
    "plot.xlabel('GHz')\n",
    "plot.ylabel('Price')\n",
    "plot.title('GHz - Price graph ')\n",
    "plot.grid(color='gray', linestyle='--', linewidth = 0.5)\n",
    "plot.show()\n"
   ]
  },
  {
   "cell_type": "code",
   "execution_count": 20,
   "id": "513242b5",
   "metadata": {},
   "outputs": [],
   "source": [
    "# Exporting our data into a CSV\n",
    "ghz_price_microproccesors.to_csv('GHz-price.csv', encoding='ISO-8859-1')"
   ]
  },
  {
   "cell_type": "code",
   "execution_count": null,
   "id": "30a6d67f",
   "metadata": {},
   "outputs": [],
   "source": []
  }
 ],
 "metadata": {
  "kernelspec": {
   "display_name": "Python 3 (ipykernel)",
   "language": "python",
   "name": "python3"
  },
  "language_info": {
   "codemirror_mode": {
    "name": "ipython",
    "version": 3
   },
   "file_extension": ".py",
   "mimetype": "text/x-python",
   "name": "python",
   "nbconvert_exporter": "python",
   "pygments_lexer": "ipython3",
   "version": "3.9.13"
  }
 },
 "nbformat": 4,
 "nbformat_minor": 5
}
